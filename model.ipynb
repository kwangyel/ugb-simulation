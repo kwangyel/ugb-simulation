{
  "nbformat": 4,
  "nbformat_minor": 0,
  "metadata": {
    "colab": {
      "name": "model.ipynb",
      "provenance": [],
      "collapsed_sections": [],
      "authorship_tag": "ABX9TyOFf8CaD730BTFN6eCq15X5",
      "include_colab_link": true
    },
    "kernelspec": {
      "name": "python3",
      "display_name": "Python 3"
    }
  },
  "cells": [
    {
      "cell_type": "markdown",
      "metadata": {
        "id": "view-in-github",
        "colab_type": "text"
      },
      "source": [
        "<a href=\"https://colab.research.google.com/github/kwangyel/ugb-simulation/blob/master/model.ipynb\" target=\"_parent\"><img src=\"https://colab.research.google.com/assets/colab-badge.svg\" alt=\"Open In Colab\"/></a>"
      ]
    },
    {
      "cell_type": "code",
      "metadata": {
        "id": "EQe4Jtv318tl",
        "colab_type": "code",
        "colab": {
          "base_uri": "https://localhost:8080/",
          "height": 34
        },
        "outputId": "1f362e6e-c903-422d-eede-a90e20af8689"
      },
      "source": [
        "import matplotlib.pyplot as plt\n",
        "import numpy as np\n",
        "from numpy import array\n",
        "# import matplotlib.image as mpimg\n",
        "from numpy import savetxt\n",
        "from numpy import loadtxt\n",
        "from keras.models import Sequential\n",
        "from keras.utils import np_utils\n",
        "from keras.layers.core import Dense, Activation, Dropout\n",
        "import pandas as pd\n",
        "import sklearn.model_selection as model_selection\n",
        "from sklearn import preprocessing\n",
        "from keras.models import model_from_json"
      ],
      "execution_count": null,
      "outputs": [
        {
          "output_type": "stream",
          "text": [
            "Using TensorFlow backend.\n"
          ],
          "name": "stderr"
        }
      ]
    },
    {
      "cell_type": "code",
      "metadata": {
        "id": "cjJNckfe2AiM",
        "colab_type": "code",
        "colab": {
          "base_uri": "https://localhost:8080/",
          "height": 121
        },
        "outputId": "4f3796a9-d4a1-4f66-b4e3-9da02766e356"
      },
      "source": [
        "from google.colab import drive\n",
        "drive.mount('/content/drive/')"
      ],
      "execution_count": null,
      "outputs": [
        {
          "output_type": "stream",
          "text": [
            "Go to this URL in a browser: https://accounts.google.com/o/oauth2/auth?client_id=947318989803-6bn6qk8qdgf4n4g3pfee6491hc0brc4i.apps.googleusercontent.com&redirect_uri=urn%3aietf%3awg%3aoauth%3a2.0%3aoob&response_type=code&scope=email%20https%3a%2f%2fwww.googleapis.com%2fauth%2fdocs.test%20https%3a%2f%2fwww.googleapis.com%2fauth%2fdrive%20https%3a%2f%2fwww.googleapis.com%2fauth%2fdrive.photos.readonly%20https%3a%2f%2fwww.googleapis.com%2fauth%2fpeopleapi.readonly\n",
            "\n",
            "Enter your authorization code:\n",
            "··········\n",
            "Mounted at /content/drive/\n"
          ],
          "name": "stdout"
        }
      ]
    },
    {
      "cell_type": "code",
      "metadata": {
        "id": "HYxlZzaq2Cb4",
        "colab_type": "code",
        "colab": {
          "base_uri": "https://localhost:8080/",
          "height": 34
        },
        "outputId": "02c8b1d0-a132-487e-f77c-48846501e5d5"
      },
      "source": [
        "dataload = loadtxt('/content/drive/My Drive/ugm_data/trn_data_01_17.csv', delimiter=',')\n",
        "dataload.shape"
      ],
      "execution_count": null,
      "outputs": [
        {
          "output_type": "execute_result",
          "data": {
            "text/plain": [
              "(20300, 8)"
            ]
          },
          "metadata": {
            "tags": []
          },
          "execution_count": 3
        }
      ]
    },
    {
      "cell_type": "code",
      "metadata": {
        "id": "7S31arhA5YCk",
        "colab_type": "code",
        "colab": {}
      },
      "source": [
        "# xdata=preprocessing.normalize(dataload[:,0:5])\n",
        "xdata=dataload\n",
        "# dataload"
      ],
      "execution_count": null,
      "outputs": []
    },
    {
      "cell_type": "code",
      "metadata": {
        "id": "AIiTCr2O3pIv",
        "colab_type": "code",
        "colab": {}
      },
      "source": [
        "X_train, X_test, y_train, y_test = model_selection.train_test_split(xdata[:,0:7], xdata[:,7:8], test_size=0.25)"
      ],
      "execution_count": null,
      "outputs": []
    },
    {
      "cell_type": "code",
      "metadata": {
        "id": "rKRjPH_65or6",
        "colab_type": "code",
        "colab": {
          "base_uri": "https://localhost:8080/",
          "height": 34
        },
        "outputId": "0f79d9cd-6e4e-4b7a-cef9-245267efec63"
      },
      "source": [
        "X_train.shape"
      ],
      "execution_count": null,
      "outputs": [
        {
          "output_type": "execute_result",
          "data": {
            "text/plain": [
              "(15225, 7)"
            ]
          },
          "metadata": {
            "tags": []
          },
          "execution_count": 6
        }
      ]
    },
    {
      "cell_type": "code",
      "metadata": {
        "id": "tet0mICo6r6u",
        "colab_type": "code",
        "colab": {
          "base_uri": "https://localhost:8080/",
          "height": 296
        },
        "outputId": "2d4f24b6-183b-4a24-ca26-c8a5696eac24"
      },
      "source": [
        "plt.hist(y_train,density=True)\n",
        "plt.ylabel('value')\n",
        "plt.xlabel('data')"
      ],
      "execution_count": null,
      "outputs": [
        {
          "output_type": "execute_result",
          "data": {
            "text/plain": [
              "Text(0.5, 0, 'data')"
            ]
          },
          "metadata": {
            "tags": []
          },
          "execution_count": 7
        },
        {
          "output_type": "display_data",
          "data": {
            "image/png": "[encoded data removed]",
            "text/plain": [
              "<Figure size 432x288 with 1 Axes>"
            ]
          },
          "metadata": {
            "tags": [],
            "needs_background": "light"
          }
        }
      ]
    },
    {
      "cell_type": "code",
      "metadata": {
        "id": "wmR0TXHi69hD",
        "colab_type": "code",
        "colab": {}
      },
      "source": [
        "input_dim=X_train.shape[1]\n",
        "output_dim=y_train.shape[1]"
      ],
      "execution_count": null,
      "outputs": []
    },
    {
      "cell_type": "code",
      "metadata": {
        "id": "SK86mZG7wwO0",
        "colab_type": "code",
        "colab": {
          "base_uri": "https://localhost:8080/",
          "height": 1000
        },
        "outputId": "b6db7ac0-1373-4b79-f2c1-6f022d5cc60b"
      },
      "source": [
        "model = Sequential()\n",
        "model.add(Dense(5, input_dim=input_dim))\n",
        "model.add(Activation('relu'))\n",
        "# model.add(Dropout(0.15))\n",
        "model.add(Dense(7))\n",
        "model.add(Activation('relu'))\n",
        "# model.add(Dropout(0.20))\n",
        "# model.add(Dense(5))\n",
        "# model.add(Activation('relu'))\n",
        "model.add(Dense(output_dim))\n",
        "model.add(Activation('sigmoid'))\n",
        "model.compile(loss='binary_crossentropy', optimizer='adam',metrics=['accuracy'])\n",
        "\n",
        "print(\"Training...\")\n",
        "model.fit(X_train, y_train, nb_epoch=500, validation_data=(X_test,y_test), batch_size=256,verbose=2)\n",
        "\n",
        "# print(\"Generating test predictions...\")\n",
        "# preds = model.predict_classes(X_test, verbose=0)\n",
        "# preds\n",
        "# def write_preds(preds, fname):\n",
        "#     pd.DataFrame({\"ImageId\": list(range(1,len(preds)+1)), \"Label\": preds}).to_csv(fname, index=False, header=True)\n",
        "\n",
        "# write_preds(preds, \"keras-mlp.csv\")"
      ],
      "execution_count": null,
      "outputs": [
        {
          "output_type": "stream",
          "text": [
            "Training...\n"
          ],
          "name": "stdout"
        },
        {
          "output_type": "stream",
          "text": [
            "/usr/local/lib/python3.6/dist-packages/ipykernel_launcher.py:15: UserWarning: The `nb_epoch` argument in `fit` has been renamed `epochs`.\n",
            "  from ipykernel import kernelapp as app\n"
          ],
          "name": "stderr"
        },
        {
          "output_type": "stream",
          "text": [
            "Train on 15225 samples, validate on 5075 samples\n",
            "Epoch 1/500\n",
            " - 0s - loss: 126.3289 - accuracy: 0.5084 - val_loss: 75.8376 - val_accuracy: 0.5066\n",
            "Epoch 2/500\n",
            " - 0s - loss: 51.0862 - accuracy: 0.5102 - val_loss: 30.3711 - val_accuracy: 0.5092\n",
            "Epoch 3/500\n",
            " - 0s - loss: 17.4567 - accuracy: 0.5121 - val_loss: 6.0141 - val_accuracy: 0.5103\n",
            "Epoch 4/500\n",
            " - 0s - loss: 1.6514 - accuracy: 0.5844 - val_loss: 0.5893 - val_accuracy: 0.6776\n",
            "Epoch 5/500\n",
            " - 0s - loss: 0.5486 - accuracy: 0.7275 - val_loss: 0.4893 - val_accuracy: 0.8024\n",
            "Epoch 6/500\n",
            " - 0s - loss: 0.4898 - accuracy: 0.7999 - val_loss: 0.4781 - val_accuracy: 0.8104\n",
            "Epoch 7/500\n",
            " - 0s - loss: 0.4802 - accuracy: 0.8054 - val_loss: 0.4728 - val_accuracy: 0.8146\n",
            "Epoch 8/500\n",
            " - 0s - loss: 0.4739 - accuracy: 0.8099 - val_loss: 0.4691 - val_accuracy: 0.8164\n",
            "Epoch 9/500\n",
            " - 0s - loss: 0.4677 - accuracy: 0.8138 - val_loss: 0.4605 - val_accuracy: 0.8201\n",
            "Epoch 10/500\n",
            " - 0s - loss: 0.4633 - accuracy: 0.8168 - val_loss: 0.4548 - val_accuracy: 0.8234\n",
            "Epoch 11/500\n",
            " - 0s - loss: 0.4569 - accuracy: 0.8212 - val_loss: 0.4484 - val_accuracy: 0.8258\n",
            "Epoch 12/500\n",
            " - 0s - loss: 0.4504 - accuracy: 0.8264 - val_loss: 0.4446 - val_accuracy: 0.8300\n",
            "Epoch 13/500\n",
            " - 0s - loss: 0.4440 - accuracy: 0.8295 - val_loss: 0.4369 - val_accuracy: 0.8333\n",
            "Epoch 14/500\n",
            " - 0s - loss: 0.4382 - accuracy: 0.8351 - val_loss: 0.4312 - val_accuracy: 0.8380\n",
            "Epoch 15/500\n",
            " - 0s - loss: 0.4327 - accuracy: 0.8377 - val_loss: 0.4239 - val_accuracy: 0.8402\n",
            "Epoch 16/500\n",
            " - 0s - loss: 0.4270 - accuracy: 0.8439 - val_loss: 0.4174 - val_accuracy: 0.8414\n",
            "Epoch 17/500\n",
            " - 0s - loss: 0.4213 - accuracy: 0.8446 - val_loss: 0.4116 - val_accuracy: 0.8453\n",
            "Epoch 18/500\n",
            " - 0s - loss: 0.4169 - accuracy: 0.8464 - val_loss: 0.4061 - val_accuracy: 0.8499\n",
            "Epoch 19/500\n",
            " - 0s - loss: 0.4099 - accuracy: 0.8522 - val_loss: 0.4018 - val_accuracy: 0.8516\n",
            "Epoch 20/500\n",
            " - 0s - loss: 0.4063 - accuracy: 0.8531 - val_loss: 0.4041 - val_accuracy: 0.8566\n",
            "Epoch 21/500\n",
            " - 0s - loss: 0.4008 - accuracy: 0.8564 - val_loss: 0.3908 - val_accuracy: 0.8601\n",
            "Epoch 22/500\n",
            " - 0s - loss: 0.3965 - accuracy: 0.8590 - val_loss: 0.3866 - val_accuracy: 0.8638\n",
            "Epoch 23/500\n",
            " - 0s - loss: 0.3937 - accuracy: 0.8575 - val_loss: 0.3844 - val_accuracy: 0.8625\n",
            "Epoch 24/500\n",
            " - 0s - loss: 0.3870 - accuracy: 0.8625 - val_loss: 0.3800 - val_accuracy: 0.8636\n",
            "Epoch 25/500\n",
            " - 0s - loss: 0.3836 - accuracy: 0.8651 - val_loss: 0.3731 - val_accuracy: 0.8633\n",
            "Epoch 26/500\n",
            " - 0s - loss: 0.3801 - accuracy: 0.8659 - val_loss: 0.3675 - val_accuracy: 0.8664\n",
            "Epoch 27/500\n",
            " - 0s - loss: 0.3767 - accuracy: 0.8643 - val_loss: 0.3688 - val_accuracy: 0.8674\n",
            "Epoch 28/500\n",
            " - 0s - loss: 0.3746 - accuracy: 0.8648 - val_loss: 0.3653 - val_accuracy: 0.8745\n",
            "Epoch 29/500\n",
            " - 0s - loss: 0.3695 - accuracy: 0.8685 - val_loss: 0.3621 - val_accuracy: 0.8701\n",
            "Epoch 30/500\n",
            " - 0s - loss: 0.3657 - accuracy: 0.8688 - val_loss: 0.3589 - val_accuracy: 0.8711\n",
            "Epoch 31/500\n",
            " - 0s - loss: 0.3634 - accuracy: 0.8682 - val_loss: 0.3499 - val_accuracy: 0.8700\n",
            "Epoch 32/500\n",
            " - 0s - loss: 0.3602 - accuracy: 0.8696 - val_loss: 0.3628 - val_accuracy: 0.8682\n",
            "Epoch 33/500\n",
            " - 0s - loss: 0.3576 - accuracy: 0.8701 - val_loss: 0.3503 - val_accuracy: 0.8790\n",
            "Epoch 34/500\n",
            " - 0s - loss: 0.3559 - accuracy: 0.8691 - val_loss: 0.3414 - val_accuracy: 0.8757\n",
            "Epoch 35/500\n",
            " - 0s - loss: 0.3557 - accuracy: 0.8677 - val_loss: 0.3443 - val_accuracy: 0.8780\n",
            "Epoch 36/500\n",
            " - 0s - loss: 0.3502 - accuracy: 0.8696 - val_loss: 0.3363 - val_accuracy: 0.8761\n",
            "Epoch 37/500\n",
            " - 0s - loss: 0.3489 - accuracy: 0.8689 - val_loss: 0.3342 - val_accuracy: 0.8765\n",
            "Epoch 38/500\n",
            " - 0s - loss: 0.3456 - accuracy: 0.8702 - val_loss: 0.3337 - val_accuracy: 0.8790\n",
            "Epoch 39/500\n",
            " - 0s - loss: 0.3455 - accuracy: 0.8717 - val_loss: 0.3304 - val_accuracy: 0.8774\n",
            "Epoch 40/500\n",
            " - 0s - loss: 0.3455 - accuracy: 0.8706 - val_loss: 0.3494 - val_accuracy: 0.8613\n",
            "Epoch 41/500\n",
            " - 0s - loss: 0.3392 - accuracy: 0.8728 - val_loss: 0.3260 - val_accuracy: 0.8796\n",
            "Epoch 42/500\n",
            " - 0s - loss: 0.3375 - accuracy: 0.8730 - val_loss: 0.3244 - val_accuracy: 0.8778\n",
            "Epoch 43/500\n",
            " - 0s - loss: 0.3406 - accuracy: 0.8706 - val_loss: 0.3398 - val_accuracy: 0.8715\n",
            "Epoch 44/500\n",
            " - 0s - loss: 0.3353 - accuracy: 0.8721 - val_loss: 0.3216 - val_accuracy: 0.8768\n",
            "Epoch 45/500\n",
            " - 0s - loss: 0.3340 - accuracy: 0.8705 - val_loss: 0.3331 - val_accuracy: 0.8703\n",
            "Epoch 46/500\n",
            " - 0s - loss: 0.3326 - accuracy: 0.8709 - val_loss: 0.3196 - val_accuracy: 0.8780\n",
            "Epoch 47/500\n",
            " - 0s - loss: 0.3326 - accuracy: 0.8726 - val_loss: 0.3181 - val_accuracy: 0.8774\n",
            "Epoch 48/500\n",
            " - 0s - loss: 0.3299 - accuracy: 0.8709 - val_loss: 0.3211 - val_accuracy: 0.8761\n",
            "Epoch 49/500\n",
            " - 0s - loss: 0.3307 - accuracy: 0.8705 - val_loss: 0.3155 - val_accuracy: 0.8776\n",
            "Epoch 50/500\n",
            " - 0s - loss: 0.3364 - accuracy: 0.8679 - val_loss: 0.3192 - val_accuracy: 0.8778\n",
            "Epoch 51/500\n",
            " - 0s - loss: 0.3273 - accuracy: 0.8722 - val_loss: 0.3196 - val_accuracy: 0.8759\n",
            "Epoch 52/500\n",
            " - 0s - loss: 0.3287 - accuracy: 0.8704 - val_loss: 0.3213 - val_accuracy: 0.8729\n",
            "Epoch 53/500\n",
            " - 0s - loss: 0.3288 - accuracy: 0.8698 - val_loss: 0.3099 - val_accuracy: 0.8782\n",
            "Epoch 54/500\n",
            " - 0s - loss: 0.3243 - accuracy: 0.8686 - val_loss: 0.3103 - val_accuracy: 0.8792\n",
            "Epoch 55/500\n",
            " - 0s - loss: 0.3260 - accuracy: 0.8700 - val_loss: 0.3082 - val_accuracy: 0.8790\n",
            "Epoch 56/500\n",
            " - 0s - loss: 0.3241 - accuracy: 0.8720 - val_loss: 0.3066 - val_accuracy: 0.8796\n",
            "Epoch 57/500\n",
            " - 0s - loss: 0.3197 - accuracy: 0.8722 - val_loss: 0.3059 - val_accuracy: 0.8808\n",
            "Epoch 58/500\n",
            " - 0s - loss: 0.3209 - accuracy: 0.8732 - val_loss: 0.3057 - val_accuracy: 0.8802\n",
            "Epoch 59/500\n",
            " - 0s - loss: 0.3231 - accuracy: 0.8712 - val_loss: 0.3056 - val_accuracy: 0.8784\n",
            "Epoch 60/500\n",
            " - 0s - loss: 0.3203 - accuracy: 0.8715 - val_loss: 0.3044 - val_accuracy: 0.8788\n",
            "Epoch 61/500\n",
            " - 0s - loss: 0.3233 - accuracy: 0.8700 - val_loss: 0.3035 - val_accuracy: 0.8774\n",
            "Epoch 62/500\n",
            " - 0s - loss: 0.3167 - accuracy: 0.8722 - val_loss: 0.3026 - val_accuracy: 0.8812\n",
            "Epoch 63/500\n",
            " - 0s - loss: 0.3180 - accuracy: 0.8718 - val_loss: 0.3096 - val_accuracy: 0.8792\n",
            "Epoch 64/500\n",
            " - 0s - loss: 0.3186 - accuracy: 0.8716 - val_loss: 0.3030 - val_accuracy: 0.8776\n",
            "Epoch 65/500\n",
            " - 0s - loss: 0.3190 - accuracy: 0.8718 - val_loss: 0.3183 - val_accuracy: 0.8763\n",
            "Epoch 66/500\n",
            " - 0s - loss: 0.3170 - accuracy: 0.8730 - val_loss: 0.3033 - val_accuracy: 0.8812\n",
            "Epoch 67/500\n",
            " - 0s - loss: 0.3175 - accuracy: 0.8698 - val_loss: 0.2999 - val_accuracy: 0.8774\n",
            "Epoch 68/500\n",
            " - 0s - loss: 0.3174 - accuracy: 0.8715 - val_loss: 0.2991 - val_accuracy: 0.8782\n",
            "Epoch 69/500\n",
            " - 0s - loss: 0.3147 - accuracy: 0.8713 - val_loss: 0.3055 - val_accuracy: 0.8765\n",
            "Epoch 70/500\n",
            " - 0s - loss: 0.3138 - accuracy: 0.8726 - val_loss: 0.2980 - val_accuracy: 0.8784\n",
            "Epoch 71/500\n",
            " - 0s - loss: 0.3145 - accuracy: 0.8701 - val_loss: 0.3041 - val_accuracy: 0.8780\n",
            "Epoch 72/500\n",
            " - 0s - loss: 0.3207 - accuracy: 0.8711 - val_loss: 0.3008 - val_accuracy: 0.8778\n",
            "Epoch 73/500\n",
            " - 0s - loss: 0.3160 - accuracy: 0.8721 - val_loss: 0.2990 - val_accuracy: 0.8772\n",
            "Epoch 74/500\n",
            " - 0s - loss: 0.3124 - accuracy: 0.8726 - val_loss: 0.3030 - val_accuracy: 0.8767\n",
            "Epoch 75/500\n",
            " - 0s - loss: 0.3156 - accuracy: 0.8714 - val_loss: 0.3009 - val_accuracy: 0.8804\n",
            "Epoch 76/500\n",
            " - 0s - loss: 0.3122 - accuracy: 0.8717 - val_loss: 0.2960 - val_accuracy: 0.8796\n",
            "Epoch 77/500\n",
            " - 0s - loss: 0.3101 - accuracy: 0.8727 - val_loss: 0.2972 - val_accuracy: 0.8820\n",
            "Epoch 78/500\n",
            " - 0s - loss: 0.3119 - accuracy: 0.8732 - val_loss: 0.2954 - val_accuracy: 0.8778\n",
            "Epoch 79/500\n",
            " - 0s - loss: 0.3119 - accuracy: 0.8715 - val_loss: 0.2954 - val_accuracy: 0.8780\n",
            "Epoch 80/500\n",
            " - 0s - loss: 0.3142 - accuracy: 0.8707 - val_loss: 0.3009 - val_accuracy: 0.8784\n",
            "Epoch 81/500\n",
            " - 0s - loss: 0.3145 - accuracy: 0.8725 - val_loss: 0.3050 - val_accuracy: 0.8739\n",
            "Epoch 82/500\n",
            " - 0s - loss: 0.3133 - accuracy: 0.8721 - val_loss: 0.2965 - val_accuracy: 0.8808\n",
            "Epoch 83/500\n",
            " - 0s - loss: 0.3213 - accuracy: 0.8705 - val_loss: 0.3026 - val_accuracy: 0.8788\n",
            "Epoch 84/500\n",
            " - 0s - loss: 0.3106 - accuracy: 0.8734 - val_loss: 0.2956 - val_accuracy: 0.8770\n",
            "Epoch 85/500\n",
            " - 0s - loss: 0.3143 - accuracy: 0.8701 - val_loss: 0.2955 - val_accuracy: 0.8774\n",
            "Epoch 86/500\n",
            " - 0s - loss: 0.3155 - accuracy: 0.8710 - val_loss: 0.2980 - val_accuracy: 0.8774\n",
            "Epoch 87/500\n",
            " - 0s - loss: 0.3112 - accuracy: 0.8724 - val_loss: 0.2936 - val_accuracy: 0.8798\n",
            "Epoch 88/500\n",
            " - 0s - loss: 0.3119 - accuracy: 0.8721 - val_loss: 0.2936 - val_accuracy: 0.8802\n",
            "Epoch 89/500\n",
            " - 0s - loss: 0.3088 - accuracy: 0.8715 - val_loss: 0.2964 - val_accuracy: 0.8782\n",
            "Epoch 90/500\n",
            " - 0s - loss: 0.3143 - accuracy: 0.8701 - val_loss: 0.2981 - val_accuracy: 0.8792\n",
            "Epoch 91/500\n",
            " - 0s - loss: 0.3172 - accuracy: 0.8693 - val_loss: 0.2962 - val_accuracy: 0.8806\n",
            "Epoch 92/500\n",
            " - 0s - loss: 0.3087 - accuracy: 0.8726 - val_loss: 0.2964 - val_accuracy: 0.8772\n",
            "Epoch 93/500\n",
            " - 0s - loss: 0.3115 - accuracy: 0.8712 - val_loss: 0.3169 - val_accuracy: 0.8656\n",
            "Epoch 94/500\n",
            " - 0s - loss: 0.3183 - accuracy: 0.8696 - val_loss: 0.2954 - val_accuracy: 0.8786\n",
            "Epoch 95/500\n",
            " - 0s - loss: 0.3114 - accuracy: 0.8708 - val_loss: 0.2965 - val_accuracy: 0.8800\n",
            "Epoch 96/500\n",
            " - 0s - loss: 0.3117 - accuracy: 0.8732 - val_loss: 0.3085 - val_accuracy: 0.8701\n",
            "Epoch 97/500\n",
            " - 0s - loss: 0.3137 - accuracy: 0.8719 - val_loss: 0.2976 - val_accuracy: 0.8790\n",
            "Epoch 98/500\n",
            " - 0s - loss: 0.3127 - accuracy: 0.8717 - val_loss: 0.2958 - val_accuracy: 0.8792\n",
            "Epoch 99/500\n",
            " - 0s - loss: 0.3086 - accuracy: 0.8734 - val_loss: 0.2997 - val_accuracy: 0.8757\n",
            "Epoch 100/500\n",
            " - 0s - loss: 0.3137 - accuracy: 0.8705 - val_loss: 0.2913 - val_accuracy: 0.8784\n",
            "Epoch 101/500\n",
            " - 0s - loss: 0.3084 - accuracy: 0.8713 - val_loss: 0.2932 - val_accuracy: 0.8776\n",
            "Epoch 102/500\n",
            " - 0s - loss: 0.3094 - accuracy: 0.8727 - val_loss: 0.2915 - val_accuracy: 0.8800\n",
            "Epoch 103/500\n",
            " - 0s - loss: 0.3080 - accuracy: 0.8720 - val_loss: 0.3045 - val_accuracy: 0.8796\n",
            "Epoch 104/500\n",
            " - 0s - loss: 0.3135 - accuracy: 0.8716 - val_loss: 0.3040 - val_accuracy: 0.8778\n",
            "Epoch 105/500\n",
            " - 0s - loss: 0.3080 - accuracy: 0.8735 - val_loss: 0.2916 - val_accuracy: 0.8806\n",
            "Epoch 106/500\n",
            " - 0s - loss: 0.3111 - accuracy: 0.8712 - val_loss: 0.2928 - val_accuracy: 0.8768\n",
            "Epoch 107/500\n",
            " - 0s - loss: 0.3078 - accuracy: 0.8719 - val_loss: 0.2919 - val_accuracy: 0.8812\n",
            "Epoch 108/500\n",
            " - 0s - loss: 0.3074 - accuracy: 0.8732 - val_loss: 0.2967 - val_accuracy: 0.8786\n",
            "Epoch 109/500\n",
            " - 0s - loss: 0.3100 - accuracy: 0.8717 - val_loss: 0.2989 - val_accuracy: 0.8786\n",
            "Epoch 110/500\n",
            " - 0s - loss: 0.3181 - accuracy: 0.8686 - val_loss: 0.2918 - val_accuracy: 0.8780\n",
            "Epoch 111/500\n",
            " - 0s - loss: 0.3095 - accuracy: 0.8721 - val_loss: 0.2914 - val_accuracy: 0.8794\n",
            "Epoch 112/500\n",
            " - 0s - loss: 0.3077 - accuracy: 0.8723 - val_loss: 0.2920 - val_accuracy: 0.8806\n",
            "Epoch 113/500\n",
            " - 0s - loss: 0.3086 - accuracy: 0.8717 - val_loss: 0.2919 - val_accuracy: 0.8774\n",
            "Epoch 114/500\n",
            " - 0s - loss: 0.3105 - accuracy: 0.8722 - val_loss: 0.2909 - val_accuracy: 0.8780\n",
            "Epoch 115/500\n",
            " - 0s - loss: 0.3096 - accuracy: 0.8697 - val_loss: 0.2950 - val_accuracy: 0.8800\n",
            "Epoch 116/500\n",
            " - 0s - loss: 0.3081 - accuracy: 0.8731 - val_loss: 0.2910 - val_accuracy: 0.8798\n",
            "Epoch 117/500\n",
            " - 0s - loss: 0.3120 - accuracy: 0.8724 - val_loss: 0.2955 - val_accuracy: 0.8770\n",
            "Epoch 118/500\n",
            " - 0s - loss: 0.3139 - accuracy: 0.8696 - val_loss: 0.2923 - val_accuracy: 0.8810\n",
            "Epoch 119/500\n",
            " - 0s - loss: 0.3128 - accuracy: 0.8714 - val_loss: 0.2939 - val_accuracy: 0.8778\n",
            "Epoch 120/500\n",
            " - 0s - loss: 0.3080 - accuracy: 0.8730 - val_loss: 0.2937 - val_accuracy: 0.8772\n",
            "Epoch 121/500\n",
            " - 0s - loss: 0.3124 - accuracy: 0.8707 - val_loss: 0.3288 - val_accuracy: 0.8770\n",
            "Epoch 122/500\n",
            " - 0s - loss: 0.3085 - accuracy: 0.8711 - val_loss: 0.2949 - val_accuracy: 0.8772\n",
            "Epoch 123/500\n",
            " - 0s - loss: 0.3085 - accuracy: 0.8710 - val_loss: 0.2909 - val_accuracy: 0.8776\n",
            "Epoch 124/500\n",
            " - 0s - loss: 0.3087 - accuracy: 0.8720 - val_loss: 0.2904 - val_accuracy: 0.8782\n",
            "Epoch 125/500\n",
            " - 0s - loss: 0.3081 - accuracy: 0.8707 - val_loss: 0.2909 - val_accuracy: 0.8778\n",
            "Epoch 126/500\n",
            " - 0s - loss: 0.3087 - accuracy: 0.8724 - val_loss: 0.2919 - val_accuracy: 0.8767\n",
            "Epoch 127/500\n",
            " - 0s - loss: 0.3060 - accuracy: 0.8718 - val_loss: 0.2910 - val_accuracy: 0.8770\n",
            "Epoch 128/500\n",
            " - 0s - loss: 0.3070 - accuracy: 0.8736 - val_loss: 0.3032 - val_accuracy: 0.8725\n",
            "Epoch 129/500\n",
            " - 0s - loss: 0.3078 - accuracy: 0.8716 - val_loss: 0.2932 - val_accuracy: 0.8790\n",
            "Epoch 130/500\n",
            " - 0s - loss: 0.3065 - accuracy: 0.8719 - val_loss: 0.3033 - val_accuracy: 0.8790\n",
            "Epoch 131/500\n",
            " - 0s - loss: 0.3100 - accuracy: 0.8728 - val_loss: 0.2961 - val_accuracy: 0.8759\n",
            "Epoch 132/500\n",
            " - 0s - loss: 0.3071 - accuracy: 0.8718 - val_loss: 0.2906 - val_accuracy: 0.8792\n",
            "Epoch 133/500\n",
            " - 0s - loss: 0.3115 - accuracy: 0.8708 - val_loss: 0.3139 - val_accuracy: 0.8644\n",
            "Epoch 134/500\n",
            " - 0s - loss: 0.3078 - accuracy: 0.8713 - val_loss: 0.2902 - val_accuracy: 0.8786\n",
            "Epoch 135/500\n",
            " - 0s - loss: 0.3077 - accuracy: 0.8729 - val_loss: 0.2913 - val_accuracy: 0.8770\n",
            "Epoch 136/500\n",
            " - 0s - loss: 0.3064 - accuracy: 0.8723 - val_loss: 0.2902 - val_accuracy: 0.8786\n",
            "Epoch 137/500\n",
            " - 0s - loss: 0.3061 - accuracy: 0.8716 - val_loss: 0.2903 - val_accuracy: 0.8798\n",
            "Epoch 138/500\n",
            " - 0s - loss: 0.3102 - accuracy: 0.8701 - val_loss: 0.2903 - val_accuracy: 0.8798\n",
            "Epoch 139/500\n",
            " - 0s - loss: 0.3084 - accuracy: 0.8723 - val_loss: 0.2903 - val_accuracy: 0.8794\n",
            "Epoch 140/500\n",
            " - 0s - loss: 0.3088 - accuracy: 0.8720 - val_loss: 0.2943 - val_accuracy: 0.8763\n",
            "Epoch 141/500\n",
            " - 0s - loss: 0.3084 - accuracy: 0.8720 - val_loss: 0.2937 - val_accuracy: 0.8800\n",
            "Epoch 142/500\n",
            " - 0s - loss: 0.3099 - accuracy: 0.8718 - val_loss: 0.2961 - val_accuracy: 0.8782\n",
            "Epoch 143/500\n",
            " - 0s - loss: 0.3126 - accuracy: 0.8703 - val_loss: 0.2912 - val_accuracy: 0.8780\n",
            "Epoch 144/500\n",
            " - 0s - loss: 0.3062 - accuracy: 0.8722 - val_loss: 0.2943 - val_accuracy: 0.8806\n",
            "Epoch 145/500\n",
            " - 0s - loss: 0.3066 - accuracy: 0.8730 - val_loss: 0.2905 - val_accuracy: 0.8792\n",
            "Epoch 146/500\n",
            " - 0s - loss: 0.3075 - accuracy: 0.8719 - val_loss: 0.2959 - val_accuracy: 0.8788\n",
            "Epoch 147/500\n",
            " - 0s - loss: 0.3072 - accuracy: 0.8722 - val_loss: 0.2903 - val_accuracy: 0.8784\n",
            "Epoch 148/500\n",
            " - 0s - loss: 0.3077 - accuracy: 0.8728 - val_loss: 0.2919 - val_accuracy: 0.8812\n",
            "Epoch 149/500\n",
            " - 0s - loss: 0.3053 - accuracy: 0.8728 - val_loss: 0.2920 - val_accuracy: 0.8774\n",
            "Epoch 150/500\n",
            " - 0s - loss: 0.3121 - accuracy: 0.8729 - val_loss: 0.2948 - val_accuracy: 0.8772\n",
            "Epoch 151/500\n",
            " - 0s - loss: 0.3067 - accuracy: 0.8712 - val_loss: 0.2937 - val_accuracy: 0.8800\n",
            "Epoch 152/500\n",
            " - 0s - loss: 0.3084 - accuracy: 0.8726 - val_loss: 0.2901 - val_accuracy: 0.8780\n",
            "Epoch 153/500\n",
            " - 0s - loss: 0.3073 - accuracy: 0.8717 - val_loss: 0.2919 - val_accuracy: 0.8804\n",
            "Epoch 154/500\n",
            " - 0s - loss: 0.3065 - accuracy: 0.8717 - val_loss: 0.2919 - val_accuracy: 0.8774\n",
            "Epoch 155/500\n",
            " - 0s - loss: 0.3069 - accuracy: 0.8724 - val_loss: 0.2916 - val_accuracy: 0.8814\n",
            "Epoch 156/500\n",
            " - 0s - loss: 0.3081 - accuracy: 0.8702 - val_loss: 0.2998 - val_accuracy: 0.8745\n",
            "Epoch 157/500\n",
            " - 0s - loss: 0.3071 - accuracy: 0.8715 - val_loss: 0.2918 - val_accuracy: 0.8774\n",
            "Epoch 158/500\n",
            " - 0s - loss: 0.3069 - accuracy: 0.8713 - val_loss: 0.2903 - val_accuracy: 0.8798\n",
            "Epoch 159/500\n",
            " - 0s - loss: 0.3079 - accuracy: 0.8716 - val_loss: 0.2923 - val_accuracy: 0.8812\n",
            "Epoch 160/500\n",
            " - 0s - loss: 0.3076 - accuracy: 0.8730 - val_loss: 0.2902 - val_accuracy: 0.8788\n",
            "Epoch 161/500\n",
            " - 0s - loss: 0.3080 - accuracy: 0.8721 - val_loss: 0.3062 - val_accuracy: 0.8782\n",
            "Epoch 162/500\n",
            " - 0s - loss: 0.3098 - accuracy: 0.8706 - val_loss: 0.2905 - val_accuracy: 0.8794\n",
            "Epoch 163/500\n",
            " - 0s - loss: 0.3061 - accuracy: 0.8718 - val_loss: 0.2902 - val_accuracy: 0.8776\n",
            "Epoch 164/500\n",
            " - 0s - loss: 0.3082 - accuracy: 0.8728 - val_loss: 0.2908 - val_accuracy: 0.8776\n",
            "Epoch 165/500\n",
            " - 0s - loss: 0.3062 - accuracy: 0.8718 - val_loss: 0.2905 - val_accuracy: 0.8798\n",
            "Epoch 166/500\n",
            " - 0s - loss: 0.3080 - accuracy: 0.8726 - val_loss: 0.2929 - val_accuracy: 0.8790\n",
            "Epoch 167/500\n",
            " - 0s - loss: 0.3064 - accuracy: 0.8711 - val_loss: 0.2945 - val_accuracy: 0.8774\n",
            "Epoch 168/500\n",
            " - 0s - loss: 0.3071 - accuracy: 0.8730 - val_loss: 0.2906 - val_accuracy: 0.8778\n",
            "Epoch 169/500\n",
            " - 0s - loss: 0.3065 - accuracy: 0.8713 - val_loss: 0.2914 - val_accuracy: 0.8802\n",
            "Epoch 170/500\n",
            " - 0s - loss: 0.3066 - accuracy: 0.8718 - val_loss: 0.2998 - val_accuracy: 0.8745\n",
            "Epoch 171/500\n",
            " - 0s - loss: 0.3075 - accuracy: 0.8728 - val_loss: 0.2931 - val_accuracy: 0.8776\n",
            "Epoch 172/500\n",
            " - 0s - loss: 0.3056 - accuracy: 0.8728 - val_loss: 0.2908 - val_accuracy: 0.8796\n",
            "Epoch 173/500\n",
            " - 0s - loss: 0.3062 - accuracy: 0.8717 - val_loss: 0.2939 - val_accuracy: 0.8778\n",
            "Epoch 174/500\n",
            " - 0s - loss: 0.3068 - accuracy: 0.8727 - val_loss: 0.2900 - val_accuracy: 0.8780\n",
            "Epoch 175/500\n",
            " - 0s - loss: 0.3077 - accuracy: 0.8712 - val_loss: 0.2907 - val_accuracy: 0.8786\n",
            "Epoch 176/500\n",
            " - 0s - loss: 0.3073 - accuracy: 0.8721 - val_loss: 0.2901 - val_accuracy: 0.8774\n",
            "Epoch 177/500\n",
            " - 0s - loss: 0.3102 - accuracy: 0.8715 - val_loss: 0.2902 - val_accuracy: 0.8790\n",
            "Epoch 178/500\n",
            " - 0s - loss: 0.3062 - accuracy: 0.8716 - val_loss: 0.2965 - val_accuracy: 0.8784\n",
            "Epoch 179/500\n",
            " - 0s - loss: 0.3074 - accuracy: 0.8719 - val_loss: 0.2913 - val_accuracy: 0.8804\n",
            "Epoch 180/500\n",
            " - 0s - loss: 0.3055 - accuracy: 0.8729 - val_loss: 0.2921 - val_accuracy: 0.8808\n",
            "Epoch 181/500\n",
            " - 0s - loss: 0.3071 - accuracy: 0.8718 - val_loss: 0.2901 - val_accuracy: 0.8774\n",
            "Epoch 182/500\n",
            " - 0s - loss: 0.3072 - accuracy: 0.8725 - val_loss: 0.2985 - val_accuracy: 0.8784\n",
            "Epoch 183/500\n",
            " - 0s - loss: 0.3072 - accuracy: 0.8717 - val_loss: 0.2954 - val_accuracy: 0.8794\n",
            "Epoch 184/500\n",
            " - 0s - loss: 0.3068 - accuracy: 0.8731 - val_loss: 0.2943 - val_accuracy: 0.8774\n",
            "Epoch 185/500\n",
            " - 0s - loss: 0.3069 - accuracy: 0.8727 - val_loss: 0.2911 - val_accuracy: 0.8810\n",
            "Epoch 186/500\n",
            " - 0s - loss: 0.3064 - accuracy: 0.8726 - val_loss: 0.2904 - val_accuracy: 0.8812\n",
            "Epoch 187/500\n",
            " - 0s - loss: 0.3068 - accuracy: 0.8734 - val_loss: 0.2900 - val_accuracy: 0.8778\n",
            "Epoch 188/500\n",
            " - 0s - loss: 0.3062 - accuracy: 0.8722 - val_loss: 0.2901 - val_accuracy: 0.8790\n",
            "Epoch 189/500\n",
            " - 0s - loss: 0.3053 - accuracy: 0.8725 - val_loss: 0.2897 - val_accuracy: 0.8794\n",
            "Epoch 190/500\n",
            " - 0s - loss: 0.3074 - accuracy: 0.8734 - val_loss: 0.2898 - val_accuracy: 0.8784\n",
            "Epoch 191/500\n",
            " - 0s - loss: 0.3069 - accuracy: 0.8726 - val_loss: 0.2903 - val_accuracy: 0.8798\n",
            "Epoch 192/500\n",
            " - 0s - loss: 0.3078 - accuracy: 0.8718 - val_loss: 0.2904 - val_accuracy: 0.8798\n",
            "Epoch 193/500\n",
            " - 0s - loss: 0.3070 - accuracy: 0.8724 - val_loss: 0.2911 - val_accuracy: 0.8776\n",
            "Epoch 194/500\n",
            " - 0s - loss: 0.3057 - accuracy: 0.8734 - val_loss: 0.2986 - val_accuracy: 0.8749\n",
            "Epoch 195/500\n",
            " - 0s - loss: 0.3081 - accuracy: 0.8718 - val_loss: 0.2922 - val_accuracy: 0.8776\n",
            "Epoch 196/500\n",
            " - 0s - loss: 0.3060 - accuracy: 0.8713 - val_loss: 0.2907 - val_accuracy: 0.8814\n",
            "Epoch 197/500\n",
            " - 0s - loss: 0.3059 - accuracy: 0.8722 - val_loss: 0.2899 - val_accuracy: 0.8778\n",
            "Epoch 198/500\n",
            " - 0s - loss: 0.3070 - accuracy: 0.8733 - val_loss: 0.2911 - val_accuracy: 0.8810\n",
            "Epoch 199/500\n",
            " - 0s - loss: 0.3067 - accuracy: 0.8722 - val_loss: 0.2903 - val_accuracy: 0.8808\n",
            "Epoch 200/500\n",
            " - 0s - loss: 0.3058 - accuracy: 0.8730 - val_loss: 0.2904 - val_accuracy: 0.8770\n",
            "Epoch 201/500\n",
            " - 0s - loss: 0.3080 - accuracy: 0.8709 - val_loss: 0.2906 - val_accuracy: 0.8772\n",
            "Epoch 202/500\n",
            " - 0s - loss: 0.3078 - accuracy: 0.8727 - val_loss: 0.2902 - val_accuracy: 0.8786\n",
            "Epoch 203/500\n",
            " - 0s - loss: 0.3091 - accuracy: 0.8724 - val_loss: 0.3137 - val_accuracy: 0.8782\n",
            "Epoch 204/500\n",
            " - 0s - loss: 0.3087 - accuracy: 0.8721 - val_loss: 0.2915 - val_accuracy: 0.8770\n",
            "Epoch 205/500\n",
            " - 0s - loss: 0.3089 - accuracy: 0.8722 - val_loss: 0.2968 - val_accuracy: 0.8763\n",
            "Epoch 206/500\n",
            " - 0s - loss: 0.3061 - accuracy: 0.8734 - val_loss: 0.2906 - val_accuracy: 0.8812\n",
            "Epoch 207/500\n",
            " - 0s - loss: 0.3068 - accuracy: 0.8721 - val_loss: 0.2900 - val_accuracy: 0.8794\n",
            "Epoch 208/500\n",
            " - 0s - loss: 0.3056 - accuracy: 0.8735 - val_loss: 0.2932 - val_accuracy: 0.8818\n",
            "Epoch 209/500\n",
            " - 0s - loss: 0.3078 - accuracy: 0.8727 - val_loss: 0.2903 - val_accuracy: 0.8778\n",
            "Epoch 210/500\n",
            " - 0s - loss: 0.3058 - accuracy: 0.8724 - val_loss: 0.2903 - val_accuracy: 0.8812\n",
            "Epoch 211/500\n",
            " - 0s - loss: 0.3058 - accuracy: 0.8728 - val_loss: 0.2958 - val_accuracy: 0.8765\n",
            "Epoch 212/500\n",
            " - 0s - loss: 0.3074 - accuracy: 0.8726 - val_loss: 0.2898 - val_accuracy: 0.8794\n",
            "Epoch 213/500\n",
            " - 0s - loss: 0.3068 - accuracy: 0.8722 - val_loss: 0.2938 - val_accuracy: 0.8776\n",
            "Epoch 214/500\n",
            " - 0s - loss: 0.3072 - accuracy: 0.8721 - val_loss: 0.2912 - val_accuracy: 0.8780\n",
            "Epoch 215/500\n",
            " - 0s - loss: 0.3054 - accuracy: 0.8731 - val_loss: 0.2913 - val_accuracy: 0.8810\n",
            "Epoch 216/500\n",
            " - 0s - loss: 0.3065 - accuracy: 0.8732 - val_loss: 0.2927 - val_accuracy: 0.8810\n",
            "Epoch 217/500\n",
            " - 0s - loss: 0.3062 - accuracy: 0.8722 - val_loss: 0.2923 - val_accuracy: 0.8814\n",
            "Epoch 218/500\n",
            " - 0s - loss: 0.3058 - accuracy: 0.8728 - val_loss: 0.2896 - val_accuracy: 0.8798\n",
            "Epoch 219/500\n",
            " - 0s - loss: 0.3062 - accuracy: 0.8726 - val_loss: 0.2931 - val_accuracy: 0.8768\n",
            "Epoch 220/500\n",
            " - 0s - loss: 0.3064 - accuracy: 0.8724 - val_loss: 0.2985 - val_accuracy: 0.8784\n",
            "Epoch 221/500\n",
            " - 0s - loss: 0.3091 - accuracy: 0.8714 - val_loss: 0.2908 - val_accuracy: 0.8814\n",
            "Epoch 222/500\n",
            " - 0s - loss: 0.3078 - accuracy: 0.8728 - val_loss: 0.2909 - val_accuracy: 0.8776\n",
            "Epoch 223/500\n",
            " - 0s - loss: 0.3055 - accuracy: 0.8728 - val_loss: 0.2899 - val_accuracy: 0.8814\n",
            "Epoch 224/500\n",
            " - 0s - loss: 0.3065 - accuracy: 0.8712 - val_loss: 0.2940 - val_accuracy: 0.8770\n",
            "Epoch 225/500\n",
            " - 0s - loss: 0.3074 - accuracy: 0.8732 - val_loss: 0.2967 - val_accuracy: 0.8759\n",
            "Epoch 226/500\n",
            " - 0s - loss: 0.3072 - accuracy: 0.8713 - val_loss: 0.2898 - val_accuracy: 0.8794\n",
            "Epoch 227/500\n",
            " - 0s - loss: 0.3053 - accuracy: 0.8728 - val_loss: 0.3007 - val_accuracy: 0.8776\n",
            "Epoch 228/500\n",
            " - 0s - loss: 0.3070 - accuracy: 0.8709 - val_loss: 0.2913 - val_accuracy: 0.8812\n",
            "Epoch 229/500\n",
            " - 0s - loss: 0.3051 - accuracy: 0.8730 - val_loss: 0.3031 - val_accuracy: 0.8786\n",
            "Epoch 230/500\n",
            " - 0s - loss: 0.3077 - accuracy: 0.8732 - val_loss: 0.2906 - val_accuracy: 0.8790\n",
            "Epoch 231/500\n",
            " - 0s - loss: 0.3072 - accuracy: 0.8723 - val_loss: 0.2901 - val_accuracy: 0.8772\n",
            "Epoch 232/500\n",
            " - 0s - loss: 0.3051 - accuracy: 0.8719 - val_loss: 0.2900 - val_accuracy: 0.8790\n",
            "Epoch 233/500\n",
            " - 0s - loss: 0.3067 - accuracy: 0.8728 - val_loss: 0.2997 - val_accuracy: 0.8782\n",
            "Epoch 234/500\n",
            " - 0s - loss: 0.3061 - accuracy: 0.8722 - val_loss: 0.2896 - val_accuracy: 0.8780\n",
            "Epoch 235/500\n",
            " - 0s - loss: 0.3070 - accuracy: 0.8719 - val_loss: 0.2949 - val_accuracy: 0.8776\n",
            "Epoch 236/500\n",
            " - 0s - loss: 0.3086 - accuracy: 0.8720 - val_loss: 0.2902 - val_accuracy: 0.8776\n",
            "Epoch 237/500\n",
            " - 0s - loss: 0.3061 - accuracy: 0.8729 - val_loss: 0.2899 - val_accuracy: 0.8786\n",
            "Epoch 238/500\n",
            " - 0s - loss: 0.3068 - accuracy: 0.8724 - val_loss: 0.2899 - val_accuracy: 0.8810\n",
            "Epoch 239/500\n",
            " - 0s - loss: 0.3060 - accuracy: 0.8726 - val_loss: 0.2898 - val_accuracy: 0.8782\n",
            "Epoch 240/500\n",
            " - 0s - loss: 0.3057 - accuracy: 0.8724 - val_loss: 0.2912 - val_accuracy: 0.8770\n",
            "Epoch 241/500\n",
            " - 0s - loss: 0.3056 - accuracy: 0.8722 - val_loss: 0.2909 - val_accuracy: 0.8768\n",
            "Epoch 242/500\n",
            " - 0s - loss: 0.3064 - accuracy: 0.8725 - val_loss: 0.2926 - val_accuracy: 0.8820\n",
            "Epoch 243/500\n",
            " - 0s - loss: 0.3086 - accuracy: 0.8720 - val_loss: 0.2901 - val_accuracy: 0.8772\n",
            "Epoch 244/500\n",
            " - 0s - loss: 0.3072 - accuracy: 0.8713 - val_loss: 0.2964 - val_accuracy: 0.8790\n",
            "Epoch 245/500\n",
            " - 0s - loss: 0.3072 - accuracy: 0.8732 - val_loss: 0.2898 - val_accuracy: 0.8784\n",
            "Epoch 246/500\n",
            " - 0s - loss: 0.3058 - accuracy: 0.8739 - val_loss: 0.2901 - val_accuracy: 0.8774\n",
            "Epoch 247/500\n",
            " - 0s - loss: 0.3059 - accuracy: 0.8721 - val_loss: 0.2918 - val_accuracy: 0.8806\n",
            "Epoch 248/500\n",
            " - 0s - loss: 0.3057 - accuracy: 0.8726 - val_loss: 0.2930 - val_accuracy: 0.8820\n",
            "Epoch 249/500\n",
            " - 0s - loss: 0.3066 - accuracy: 0.8738 - val_loss: 0.2935 - val_accuracy: 0.8802\n",
            "Epoch 250/500\n",
            " - 0s - loss: 0.3064 - accuracy: 0.8726 - val_loss: 0.2926 - val_accuracy: 0.8798\n",
            "Epoch 251/500\n",
            " - 0s - loss: 0.3071 - accuracy: 0.8726 - val_loss: 0.2898 - val_accuracy: 0.8792\n",
            "Epoch 252/500\n",
            " - 0s - loss: 0.3063 - accuracy: 0.8715 - val_loss: 0.2927 - val_accuracy: 0.8772\n",
            "Epoch 253/500\n",
            " - 0s - loss: 0.3073 - accuracy: 0.8728 - val_loss: 0.2905 - val_accuracy: 0.8776\n",
            "Epoch 254/500\n",
            " - 0s - loss: 0.3046 - accuracy: 0.8732 - val_loss: 0.2936 - val_accuracy: 0.8774\n",
            "Epoch 255/500\n",
            " - 0s - loss: 0.3057 - accuracy: 0.8728 - val_loss: 0.2901 - val_accuracy: 0.8794\n",
            "Epoch 256/500\n",
            " - 0s - loss: 0.3061 - accuracy: 0.8731 - val_loss: 0.2896 - val_accuracy: 0.8792\n",
            "Epoch 257/500\n",
            " - 0s - loss: 0.3049 - accuracy: 0.8728 - val_loss: 0.2940 - val_accuracy: 0.8798\n",
            "Epoch 258/500\n",
            " - 0s - loss: 0.3064 - accuracy: 0.8726 - val_loss: 0.2896 - val_accuracy: 0.8816\n",
            "Epoch 259/500\n",
            " - 0s - loss: 0.3061 - accuracy: 0.8707 - val_loss: 0.2901 - val_accuracy: 0.8818\n",
            "Epoch 260/500\n",
            " - 0s - loss: 0.3056 - accuracy: 0.8724 - val_loss: 0.2917 - val_accuracy: 0.8814\n",
            "Epoch 261/500\n",
            " - 0s - loss: 0.3055 - accuracy: 0.8722 - val_loss: 0.2928 - val_accuracy: 0.8770\n",
            "Epoch 262/500\n",
            " - 0s - loss: 0.3049 - accuracy: 0.8732 - val_loss: 0.2913 - val_accuracy: 0.8818\n",
            "Epoch 263/500\n",
            " - 0s - loss: 0.3053 - accuracy: 0.8731 - val_loss: 0.2907 - val_accuracy: 0.8820\n",
            "Epoch 264/500\n",
            " - 0s - loss: 0.3056 - accuracy: 0.8727 - val_loss: 0.2917 - val_accuracy: 0.8765\n",
            "Epoch 265/500\n",
            " - 0s - loss: 0.3053 - accuracy: 0.8724 - val_loss: 0.2974 - val_accuracy: 0.8747\n",
            "Epoch 266/500\n",
            " - 0s - loss: 0.3062 - accuracy: 0.8729 - val_loss: 0.2892 - val_accuracy: 0.8800\n",
            "Epoch 267/500\n",
            " - 0s - loss: 0.3056 - accuracy: 0.8719 - val_loss: 0.2950 - val_accuracy: 0.8804\n",
            "Epoch 268/500\n",
            " - 0s - loss: 0.3064 - accuracy: 0.8713 - val_loss: 0.2894 - val_accuracy: 0.8792\n",
            "Epoch 269/500\n",
            " - 0s - loss: 0.3086 - accuracy: 0.8741 - val_loss: 0.2904 - val_accuracy: 0.8774\n",
            "Epoch 270/500\n",
            " - 0s - loss: 0.3051 - accuracy: 0.8732 - val_loss: 0.2896 - val_accuracy: 0.8798\n",
            "Epoch 271/500\n",
            " - 0s - loss: 0.3062 - accuracy: 0.8737 - val_loss: 0.2896 - val_accuracy: 0.8788\n",
            "Epoch 272/500\n",
            " - 0s - loss: 0.3054 - accuracy: 0.8720 - val_loss: 0.2894 - val_accuracy: 0.8792\n",
            "Epoch 273/500\n",
            " - 0s - loss: 0.3065 - accuracy: 0.8733 - val_loss: 0.2904 - val_accuracy: 0.8770\n",
            "Epoch 274/500\n",
            " - 0s - loss: 0.3072 - accuracy: 0.8722 - val_loss: 0.2905 - val_accuracy: 0.8772\n",
            "Epoch 275/500\n",
            " - 0s - loss: 0.3058 - accuracy: 0.8722 - val_loss: 0.2990 - val_accuracy: 0.8786\n",
            "Epoch 276/500\n",
            " - 0s - loss: 0.3054 - accuracy: 0.8714 - val_loss: 0.2896 - val_accuracy: 0.8798\n",
            "Epoch 277/500\n",
            " - 0s - loss: 0.3056 - accuracy: 0.8719 - val_loss: 0.2911 - val_accuracy: 0.8814\n",
            "Epoch 278/500\n",
            " - 0s - loss: 0.3061 - accuracy: 0.8733 - val_loss: 0.2907 - val_accuracy: 0.8768\n",
            "Epoch 279/500\n",
            " - 0s - loss: 0.3059 - accuracy: 0.8726 - val_loss: 0.2947 - val_accuracy: 0.8800\n",
            "Epoch 280/500\n",
            " - 0s - loss: 0.3073 - accuracy: 0.8721 - val_loss: 0.2914 - val_accuracy: 0.8776\n",
            "Epoch 281/500\n",
            " - 0s - loss: 0.3051 - accuracy: 0.8730 - val_loss: 0.2900 - val_accuracy: 0.8770\n",
            "Epoch 282/500\n",
            " - 0s - loss: 0.3053 - accuracy: 0.8729 - val_loss: 0.2909 - val_accuracy: 0.8765\n",
            "Epoch 283/500\n",
            " - 0s - loss: 0.3066 - accuracy: 0.8715 - val_loss: 0.2893 - val_accuracy: 0.8796\n",
            "Epoch 284/500\n",
            " - 0s - loss: 0.3054 - accuracy: 0.8723 - val_loss: 0.2898 - val_accuracy: 0.8774\n",
            "Epoch 285/500\n",
            " - 0s - loss: 0.3062 - accuracy: 0.8751 - val_loss: 0.2903 - val_accuracy: 0.8816\n",
            "Epoch 286/500\n",
            " - 0s - loss: 0.3054 - accuracy: 0.8730 - val_loss: 0.2896 - val_accuracy: 0.8804\n",
            "Epoch 287/500\n",
            " - 0s - loss: 0.3054 - accuracy: 0.8736 - val_loss: 0.2994 - val_accuracy: 0.8788\n",
            "Epoch 288/500\n",
            " - 0s - loss: 0.3072 - accuracy: 0.8729 - val_loss: 0.2894 - val_accuracy: 0.8792\n",
            "Epoch 289/500\n",
            " - 0s - loss: 0.3058 - accuracy: 0.8724 - val_loss: 0.2964 - val_accuracy: 0.8800\n",
            "Epoch 290/500\n",
            " - 0s - loss: 0.3054 - accuracy: 0.8721 - val_loss: 0.2920 - val_accuracy: 0.8763\n",
            "Epoch 291/500\n",
            " - 0s - loss: 0.3058 - accuracy: 0.8725 - val_loss: 0.2945 - val_accuracy: 0.8768\n",
            "Epoch 292/500\n",
            " - 0s - loss: 0.3087 - accuracy: 0.8721 - val_loss: 0.2907 - val_accuracy: 0.8810\n",
            "Epoch 293/500\n",
            " - 0s - loss: 0.3065 - accuracy: 0.8721 - val_loss: 0.2962 - val_accuracy: 0.8798\n",
            "Epoch 294/500\n",
            " - 0s - loss: 0.3077 - accuracy: 0.8736 - val_loss: 0.2900 - val_accuracy: 0.8800\n",
            "Epoch 295/500\n",
            " - 0s - loss: 0.3060 - accuracy: 0.8719 - val_loss: 0.2894 - val_accuracy: 0.8784\n",
            "Epoch 296/500\n",
            " - 0s - loss: 0.3057 - accuracy: 0.8724 - val_loss: 0.2898 - val_accuracy: 0.8774\n",
            "Epoch 297/500\n",
            " - 0s - loss: 0.3060 - accuracy: 0.8725 - val_loss: 0.2898 - val_accuracy: 0.8800\n",
            "Epoch 298/500\n",
            " - 0s - loss: 0.3057 - accuracy: 0.8726 - val_loss: 0.2903 - val_accuracy: 0.8814\n",
            "Epoch 299/500\n",
            " - 0s - loss: 0.3063 - accuracy: 0.8731 - val_loss: 0.2896 - val_accuracy: 0.8782\n",
            "Epoch 300/500\n",
            " - 0s - loss: 0.3063 - accuracy: 0.8722 - val_loss: 0.2931 - val_accuracy: 0.8798\n",
            "Epoch 301/500\n",
            " - 0s - loss: 0.3060 - accuracy: 0.8730 - val_loss: 0.2930 - val_accuracy: 0.8786\n",
            "Epoch 302/500\n",
            " - 0s - loss: 0.3060 - accuracy: 0.8718 - val_loss: 0.2896 - val_accuracy: 0.8796\n",
            "Epoch 303/500\n",
            " - 0s - loss: 0.3069 - accuracy: 0.8715 - val_loss: 0.2917 - val_accuracy: 0.8765\n",
            "Epoch 304/500\n",
            " - 0s - loss: 0.3079 - accuracy: 0.8719 - val_loss: 0.2908 - val_accuracy: 0.8768\n",
            "Epoch 305/500\n",
            " - 0s - loss: 0.3059 - accuracy: 0.8731 - val_loss: 0.2891 - val_accuracy: 0.8804\n",
            "Epoch 306/500\n",
            " - 0s - loss: 0.3065 - accuracy: 0.8730 - val_loss: 0.2896 - val_accuracy: 0.8796\n",
            "Epoch 307/500\n",
            " - 0s - loss: 0.3050 - accuracy: 0.8721 - val_loss: 0.2918 - val_accuracy: 0.8814\n",
            "Epoch 308/500\n",
            " - 0s - loss: 0.3061 - accuracy: 0.8738 - val_loss: 0.2886 - val_accuracy: 0.8816\n",
            "Epoch 309/500\n",
            " - 0s - loss: 0.3038 - accuracy: 0.8726 - val_loss: 0.2883 - val_accuracy: 0.8786\n",
            "Epoch 310/500\n",
            " - 0s - loss: 0.3043 - accuracy: 0.8742 - val_loss: 0.2906 - val_accuracy: 0.8824\n",
            "Epoch 311/500\n",
            " - 0s - loss: 0.3039 - accuracy: 0.8747 - val_loss: 0.2873 - val_accuracy: 0.8802\n",
            "Epoch 312/500\n",
            " - 0s - loss: 0.3042 - accuracy: 0.8744 - val_loss: 0.2871 - val_accuracy: 0.8802\n",
            "Epoch 313/500\n",
            " - 0s - loss: 0.3037 - accuracy: 0.8735 - val_loss: 0.2879 - val_accuracy: 0.8812\n",
            "Epoch 314/500\n",
            " - 0s - loss: 0.3032 - accuracy: 0.8737 - val_loss: 0.2876 - val_accuracy: 0.8800\n",
            "Epoch 315/500\n",
            " - 0s - loss: 0.3034 - accuracy: 0.8738 - val_loss: 0.2873 - val_accuracy: 0.8810\n",
            "Epoch 316/500\n",
            " - 0s - loss: 0.3041 - accuracy: 0.8732 - val_loss: 0.2884 - val_accuracy: 0.8790\n",
            "Epoch 317/500\n",
            " - 0s - loss: 0.3040 - accuracy: 0.8734 - val_loss: 0.2875 - val_accuracy: 0.8822\n",
            "Epoch 318/500\n",
            " - 0s - loss: 0.3057 - accuracy: 0.8726 - val_loss: 0.2910 - val_accuracy: 0.8788\n",
            "Epoch 319/500\n",
            " - 0s - loss: 0.3043 - accuracy: 0.8732 - val_loss: 0.2987 - val_accuracy: 0.8731\n",
            "Epoch 320/500\n",
            " - 0s - loss: 0.3035 - accuracy: 0.8728 - val_loss: 0.2875 - val_accuracy: 0.8826\n",
            "Epoch 321/500\n",
            " - 0s - loss: 0.3034 - accuracy: 0.8736 - val_loss: 0.2872 - val_accuracy: 0.8810\n",
            "Epoch 322/500\n",
            " - 0s - loss: 0.3039 - accuracy: 0.8735 - val_loss: 0.2880 - val_accuracy: 0.8818\n",
            "Epoch 323/500\n",
            " - 0s - loss: 0.3054 - accuracy: 0.8728 - val_loss: 0.2879 - val_accuracy: 0.8818\n",
            "Epoch 324/500\n",
            " - 0s - loss: 0.3028 - accuracy: 0.8736 - val_loss: 0.2890 - val_accuracy: 0.8772\n",
            "Epoch 325/500\n",
            " - 0s - loss: 0.3039 - accuracy: 0.8729 - val_loss: 0.2888 - val_accuracy: 0.8818\n",
            "Epoch 326/500\n",
            " - 0s - loss: 0.3032 - accuracy: 0.8740 - val_loss: 0.2867 - val_accuracy: 0.8794\n",
            "Epoch 327/500\n",
            " - 0s - loss: 0.3027 - accuracy: 0.8735 - val_loss: 0.2872 - val_accuracy: 0.8822\n",
            "Epoch 328/500\n",
            " - 0s - loss: 0.3054 - accuracy: 0.8741 - val_loss: 0.2873 - val_accuracy: 0.8810\n",
            "Epoch 329/500\n",
            " - 0s - loss: 0.3028 - accuracy: 0.8729 - val_loss: 0.2938 - val_accuracy: 0.8772\n",
            "Epoch 330/500\n",
            " - 0s - loss: 0.3044 - accuracy: 0.8738 - val_loss: 0.2870 - val_accuracy: 0.8808\n",
            "Epoch 331/500\n",
            " - 0s - loss: 0.3040 - accuracy: 0.8736 - val_loss: 0.2868 - val_accuracy: 0.8798\n",
            "Epoch 332/500\n",
            " - 0s - loss: 0.3036 - accuracy: 0.8743 - val_loss: 0.2865 - val_accuracy: 0.8814\n",
            "Epoch 333/500\n",
            " - 0s - loss: 0.3038 - accuracy: 0.8732 - val_loss: 0.2873 - val_accuracy: 0.8788\n",
            "Epoch 334/500\n",
            " - 0s - loss: 0.3036 - accuracy: 0.8742 - val_loss: 0.2884 - val_accuracy: 0.8824\n",
            "Epoch 335/500\n",
            " - 0s - loss: 0.3027 - accuracy: 0.8741 - val_loss: 0.2863 - val_accuracy: 0.8812\n",
            "Epoch 336/500\n",
            " - 0s - loss: 0.3028 - accuracy: 0.8745 - val_loss: 0.2881 - val_accuracy: 0.8786\n",
            "Epoch 337/500\n",
            " - 0s - loss: 0.3034 - accuracy: 0.8740 - val_loss: 0.2862 - val_accuracy: 0.8816\n",
            "Epoch 338/500\n",
            " - 0s - loss: 0.3041 - accuracy: 0.8740 - val_loss: 0.2878 - val_accuracy: 0.8826\n",
            "Epoch 339/500\n",
            " - 0s - loss: 0.3036 - accuracy: 0.8755 - val_loss: 0.2890 - val_accuracy: 0.8778\n",
            "Epoch 340/500\n",
            " - 0s - loss: 0.3041 - accuracy: 0.8726 - val_loss: 0.2877 - val_accuracy: 0.8790\n",
            "Epoch 341/500\n",
            " - 0s - loss: 0.3040 - accuracy: 0.8740 - val_loss: 0.2932 - val_accuracy: 0.8778\n",
            "Epoch 342/500\n",
            " - 0s - loss: 0.3035 - accuracy: 0.8749 - val_loss: 0.2872 - val_accuracy: 0.8798\n",
            "Epoch 343/500\n",
            " - 0s - loss: 0.3038 - accuracy: 0.8738 - val_loss: 0.2893 - val_accuracy: 0.8822\n",
            "Epoch 344/500\n",
            " - 0s - loss: 0.3039 - accuracy: 0.8744 - val_loss: 0.2916 - val_accuracy: 0.8822\n",
            "Epoch 345/500\n",
            " - 0s - loss: 0.3031 - accuracy: 0.8732 - val_loss: 0.2868 - val_accuracy: 0.8796\n",
            "Epoch 346/500\n",
            " - 0s - loss: 0.3034 - accuracy: 0.8747 - val_loss: 0.2907 - val_accuracy: 0.8816\n",
            "Epoch 347/500\n",
            " - 0s - loss: 0.3061 - accuracy: 0.8728 - val_loss: 0.2870 - val_accuracy: 0.8810\n",
            "Epoch 348/500\n",
            " - 0s - loss: 0.3035 - accuracy: 0.8738 - val_loss: 0.2891 - val_accuracy: 0.8782\n",
            "Epoch 349/500\n",
            " - 0s - loss: 0.3050 - accuracy: 0.8731 - val_loss: 0.2870 - val_accuracy: 0.8798\n",
            "Epoch 350/500\n",
            " - 0s - loss: 0.3050 - accuracy: 0.8727 - val_loss: 0.2935 - val_accuracy: 0.8806\n",
            "Epoch 351/500\n",
            " - 0s - loss: 0.3046 - accuracy: 0.8737 - val_loss: 0.2896 - val_accuracy: 0.8832\n",
            "Epoch 352/500\n",
            " - 0s - loss: 0.3033 - accuracy: 0.8750 - val_loss: 0.2867 - val_accuracy: 0.8816\n",
            "Epoch 353/500\n",
            " - 0s - loss: 0.3042 - accuracy: 0.8732 - val_loss: 0.2871 - val_accuracy: 0.8794\n",
            "Epoch 354/500\n",
            " - 0s - loss: 0.3026 - accuracy: 0.8736 - val_loss: 0.2882 - val_accuracy: 0.8784\n",
            "Epoch 355/500\n",
            " - 0s - loss: 0.3036 - accuracy: 0.8731 - val_loss: 0.2870 - val_accuracy: 0.8810\n",
            "Epoch 356/500\n",
            " - 0s - loss: 0.3056 - accuracy: 0.8743 - val_loss: 0.2874 - val_accuracy: 0.8814\n",
            "Epoch 357/500\n",
            " - 0s - loss: 0.3035 - accuracy: 0.8749 - val_loss: 0.2968 - val_accuracy: 0.8751\n",
            "Epoch 358/500\n",
            " - 0s - loss: 0.3033 - accuracy: 0.8729 - val_loss: 0.2877 - val_accuracy: 0.8822\n",
            "Epoch 359/500\n",
            " - 0s - loss: 0.3027 - accuracy: 0.8734 - val_loss: 0.2919 - val_accuracy: 0.8816\n",
            "Epoch 360/500\n",
            " - 0s - loss: 0.3063 - accuracy: 0.8736 - val_loss: 0.2862 - val_accuracy: 0.8806\n",
            "Epoch 361/500\n",
            " - 0s - loss: 0.3033 - accuracy: 0.8736 - val_loss: 0.2926 - val_accuracy: 0.8772\n",
            "Epoch 362/500\n",
            " - 0s - loss: 0.3028 - accuracy: 0.8742 - val_loss: 0.2863 - val_accuracy: 0.8810\n",
            "Epoch 363/500\n",
            " - 0s - loss: 0.3035 - accuracy: 0.8736 - val_loss: 0.2876 - val_accuracy: 0.8814\n",
            "Epoch 364/500\n",
            " - 0s - loss: 0.3026 - accuracy: 0.8742 - val_loss: 0.2881 - val_accuracy: 0.8820\n",
            "Epoch 365/500\n",
            " - 0s - loss: 0.3041 - accuracy: 0.8740 - val_loss: 0.2866 - val_accuracy: 0.8800\n",
            "Epoch 366/500\n",
            " - 0s - loss: 0.3050 - accuracy: 0.8744 - val_loss: 0.2883 - val_accuracy: 0.8778\n",
            "Epoch 367/500\n",
            " - 0s - loss: 0.3023 - accuracy: 0.8737 - val_loss: 0.2869 - val_accuracy: 0.8814\n",
            "Epoch 368/500\n",
            " - 0s - loss: 0.3026 - accuracy: 0.8748 - val_loss: 0.2874 - val_accuracy: 0.8796\n",
            "Epoch 369/500\n",
            " - 0s - loss: 0.3065 - accuracy: 0.8740 - val_loss: 0.2889 - val_accuracy: 0.8790\n",
            "Epoch 370/500\n",
            " - 0s - loss: 0.3047 - accuracy: 0.8753 - val_loss: 0.2878 - val_accuracy: 0.8816\n",
            "Epoch 371/500\n",
            " - 0s - loss: 0.3041 - accuracy: 0.8747 - val_loss: 0.2893 - val_accuracy: 0.8830\n",
            "Epoch 372/500\n",
            " - 0s - loss: 0.3025 - accuracy: 0.8734 - val_loss: 0.2904 - val_accuracy: 0.8788\n",
            "Epoch 373/500\n",
            " - 0s - loss: 0.3041 - accuracy: 0.8735 - val_loss: 0.2915 - val_accuracy: 0.8818\n",
            "Epoch 374/500\n",
            " - 0s - loss: 0.3029 - accuracy: 0.8751 - val_loss: 0.2871 - val_accuracy: 0.8790\n",
            "Epoch 375/500\n",
            " - 0s - loss: 0.3055 - accuracy: 0.8733 - val_loss: 0.2867 - val_accuracy: 0.8818\n",
            "Epoch 376/500\n",
            " - 0s - loss: 0.3022 - accuracy: 0.8748 - val_loss: 0.2871 - val_accuracy: 0.8812\n",
            "Epoch 377/500\n",
            " - 0s - loss: 0.3041 - accuracy: 0.8738 - val_loss: 0.2911 - val_accuracy: 0.8824\n",
            "Epoch 378/500\n",
            " - 0s - loss: 0.3016 - accuracy: 0.8747 - val_loss: 0.2901 - val_accuracy: 0.8780\n",
            "Epoch 379/500\n",
            " - 0s - loss: 0.3047 - accuracy: 0.8732 - val_loss: 0.2883 - val_accuracy: 0.8782\n",
            "Epoch 380/500\n",
            " - 0s - loss: 0.3033 - accuracy: 0.8739 - val_loss: 0.2866 - val_accuracy: 0.8812\n",
            "Epoch 381/500\n",
            " - 0s - loss: 0.3052 - accuracy: 0.8732 - val_loss: 0.2883 - val_accuracy: 0.8780\n",
            "Epoch 382/500\n",
            " - 0s - loss: 0.3026 - accuracy: 0.8747 - val_loss: 0.2993 - val_accuracy: 0.8729\n",
            "Epoch 383/500\n",
            " - 0s - loss: 0.3026 - accuracy: 0.8744 - val_loss: 0.2863 - val_accuracy: 0.8804\n",
            "Epoch 384/500\n",
            " - 0s - loss: 0.3039 - accuracy: 0.8737 - val_loss: 0.2867 - val_accuracy: 0.8804\n",
            "Epoch 385/500\n",
            " - 0s - loss: 0.3060 - accuracy: 0.8728 - val_loss: 0.2915 - val_accuracy: 0.8810\n",
            "Epoch 386/500\n",
            " - 0s - loss: 0.3038 - accuracy: 0.8744 - val_loss: 0.2927 - val_accuracy: 0.8786\n",
            "Epoch 387/500\n",
            " - 0s - loss: 0.3027 - accuracy: 0.8743 - val_loss: 0.2881 - val_accuracy: 0.8778\n",
            "Epoch 388/500\n",
            " - 0s - loss: 0.3032 - accuracy: 0.8736 - val_loss: 0.2869 - val_accuracy: 0.8790\n",
            "Epoch 389/500\n",
            " - 0s - loss: 0.3034 - accuracy: 0.8759 - val_loss: 0.2861 - val_accuracy: 0.8802\n",
            "Epoch 390/500\n",
            " - 0s - loss: 0.3048 - accuracy: 0.8746 - val_loss: 0.2930 - val_accuracy: 0.8800\n",
            "Epoch 391/500\n",
            " - 0s - loss: 0.3038 - accuracy: 0.8746 - val_loss: 0.2871 - val_accuracy: 0.8808\n",
            "Epoch 392/500\n",
            " - 0s - loss: 0.3024 - accuracy: 0.8733 - val_loss: 0.2879 - val_accuracy: 0.8830\n",
            "Epoch 393/500\n",
            " - 0s - loss: 0.3023 - accuracy: 0.8744 - val_loss: 0.2864 - val_accuracy: 0.8814\n",
            "Epoch 394/500\n",
            " - 0s - loss: 0.3020 - accuracy: 0.8751 - val_loss: 0.2867 - val_accuracy: 0.8820\n",
            "Epoch 395/500\n",
            " - 0s - loss: 0.3021 - accuracy: 0.8745 - val_loss: 0.2880 - val_accuracy: 0.8776\n",
            "Epoch 396/500\n",
            " - 0s - loss: 0.3040 - accuracy: 0.8729 - val_loss: 0.2858 - val_accuracy: 0.8820\n",
            "Epoch 397/500\n",
            " - 0s - loss: 0.3051 - accuracy: 0.8739 - val_loss: 0.2868 - val_accuracy: 0.8828\n",
            "Epoch 398/500\n",
            " - 0s - loss: 0.3032 - accuracy: 0.8753 - val_loss: 0.2871 - val_accuracy: 0.8810\n",
            "Epoch 399/500\n",
            " - 0s - loss: 0.3038 - accuracy: 0.8737 - val_loss: 0.2862 - val_accuracy: 0.8816\n",
            "Epoch 400/500\n",
            " - 0s - loss: 0.3025 - accuracy: 0.8748 - val_loss: 0.2872 - val_accuracy: 0.8824\n",
            "Epoch 401/500\n",
            " - 0s - loss: 0.3028 - accuracy: 0.8741 - val_loss: 0.2859 - val_accuracy: 0.8812\n",
            "Epoch 402/500\n",
            " - 0s - loss: 0.3022 - accuracy: 0.8753 - val_loss: 0.2891 - val_accuracy: 0.8826\n",
            "Epoch 403/500\n",
            " - 0s - loss: 0.3032 - accuracy: 0.8737 - val_loss: 0.2856 - val_accuracy: 0.8816\n",
            "Epoch 404/500\n",
            " - 0s - loss: 0.3022 - accuracy: 0.8730 - val_loss: 0.2873 - val_accuracy: 0.8826\n",
            "Epoch 405/500\n",
            " - 0s - loss: 0.3036 - accuracy: 0.8743 - val_loss: 0.2885 - val_accuracy: 0.8832\n",
            "Epoch 406/500\n",
            " - 0s - loss: 0.3026 - accuracy: 0.8736 - val_loss: 0.2910 - val_accuracy: 0.8816\n",
            "Epoch 407/500\n",
            " - 0s - loss: 0.3032 - accuracy: 0.8732 - val_loss: 0.2862 - val_accuracy: 0.8802\n",
            "Epoch 408/500\n",
            " - 0s - loss: 0.3029 - accuracy: 0.8748 - val_loss: 0.2870 - val_accuracy: 0.8828\n",
            "Epoch 409/500\n",
            " - 0s - loss: 0.3017 - accuracy: 0.8748 - val_loss: 0.2867 - val_accuracy: 0.8818\n",
            "Epoch 410/500\n",
            " - 0s - loss: 0.3023 - accuracy: 0.8745 - val_loss: 0.2856 - val_accuracy: 0.8810\n",
            "Epoch 411/500\n",
            " - 0s - loss: 0.3035 - accuracy: 0.8728 - val_loss: 0.2865 - val_accuracy: 0.8800\n",
            "Epoch 412/500\n",
            " - 0s - loss: 0.3029 - accuracy: 0.8740 - val_loss: 0.2872 - val_accuracy: 0.8792\n",
            "Epoch 413/500\n",
            " - 0s - loss: 0.3020 - accuracy: 0.8755 - val_loss: 0.2857 - val_accuracy: 0.8816\n",
            "Epoch 414/500\n",
            " - 0s - loss: 0.3038 - accuracy: 0.8740 - val_loss: 0.2866 - val_accuracy: 0.8816\n",
            "Epoch 415/500\n",
            " - 0s - loss: 0.3057 - accuracy: 0.8742 - val_loss: 0.2858 - val_accuracy: 0.8812\n",
            "Epoch 416/500\n",
            " - 0s - loss: 0.3019 - accuracy: 0.8742 - val_loss: 0.2892 - val_accuracy: 0.8832\n",
            "Epoch 417/500\n",
            " - 0s - loss: 0.3030 - accuracy: 0.8730 - val_loss: 0.2870 - val_accuracy: 0.8788\n",
            "Epoch 418/500\n",
            " - 0s - loss: 0.3052 - accuracy: 0.8724 - val_loss: 0.2863 - val_accuracy: 0.8800\n",
            "Epoch 419/500\n",
            " - 0s - loss: 0.3043 - accuracy: 0.8755 - val_loss: 0.2862 - val_accuracy: 0.8804\n",
            "Epoch 420/500\n",
            " - 0s - loss: 0.3025 - accuracy: 0.8741 - val_loss: 0.2858 - val_accuracy: 0.8802\n",
            "Epoch 421/500\n",
            " - 0s - loss: 0.3034 - accuracy: 0.8749 - val_loss: 0.2859 - val_accuracy: 0.8824\n",
            "Epoch 422/500\n",
            " - 0s - loss: 0.3022 - accuracy: 0.8746 - val_loss: 0.2858 - val_accuracy: 0.8802\n",
            "Epoch 423/500\n",
            " - 0s - loss: 0.3024 - accuracy: 0.8738 - val_loss: 0.2861 - val_accuracy: 0.8826\n",
            "Epoch 424/500\n",
            " - 0s - loss: 0.3021 - accuracy: 0.8738 - val_loss: 0.2875 - val_accuracy: 0.8776\n",
            "Epoch 425/500\n",
            " - 0s - loss: 0.3024 - accuracy: 0.8734 - val_loss: 0.2866 - val_accuracy: 0.8790\n",
            "Epoch 426/500\n",
            " - 0s - loss: 0.3022 - accuracy: 0.8746 - val_loss: 0.2888 - val_accuracy: 0.8796\n",
            "Epoch 427/500\n",
            " - 0s - loss: 0.3035 - accuracy: 0.8750 - val_loss: 0.2891 - val_accuracy: 0.8794\n",
            "Epoch 428/500\n",
            " - 0s - loss: 0.3022 - accuracy: 0.8751 - val_loss: 0.2877 - val_accuracy: 0.8788\n",
            "Epoch 429/500\n",
            " - 0s - loss: 0.3046 - accuracy: 0.8741 - val_loss: 0.2879 - val_accuracy: 0.8782\n",
            "Epoch 430/500\n",
            " - 0s - loss: 0.3021 - accuracy: 0.8734 - val_loss: 0.2879 - val_accuracy: 0.8833\n",
            "Epoch 431/500\n",
            " - 0s - loss: 0.3061 - accuracy: 0.8726 - val_loss: 0.2888 - val_accuracy: 0.8780\n",
            "Epoch 432/500\n",
            " - 0s - loss: 0.3026 - accuracy: 0.8744 - val_loss: 0.2886 - val_accuracy: 0.8796\n",
            "Epoch 433/500\n",
            " - 0s - loss: 0.3029 - accuracy: 0.8752 - val_loss: 0.2860 - val_accuracy: 0.8824\n",
            "Epoch 434/500\n",
            " - 0s - loss: 0.3028 - accuracy: 0.8731 - val_loss: 0.2856 - val_accuracy: 0.8820\n",
            "Epoch 435/500\n",
            " - 0s - loss: 0.3025 - accuracy: 0.8739 - val_loss: 0.2860 - val_accuracy: 0.8816\n",
            "Epoch 436/500\n",
            " - 0s - loss: 0.3027 - accuracy: 0.8736 - val_loss: 0.2976 - val_accuracy: 0.8806\n",
            "Epoch 437/500\n",
            " - 0s - loss: 0.3080 - accuracy: 0.8738 - val_loss: 0.2875 - val_accuracy: 0.8824\n",
            "Epoch 438/500\n",
            " - 0s - loss: 0.3026 - accuracy: 0.8739 - val_loss: 0.2903 - val_accuracy: 0.8788\n",
            "Epoch 439/500\n",
            " - 0s - loss: 0.3033 - accuracy: 0.8726 - val_loss: 0.2858 - val_accuracy: 0.8796\n",
            "Epoch 440/500\n",
            " - 0s - loss: 0.3030 - accuracy: 0.8732 - val_loss: 0.2856 - val_accuracy: 0.8814\n",
            "Epoch 441/500\n",
            " - 0s - loss: 0.3028 - accuracy: 0.8734 - val_loss: 0.2891 - val_accuracy: 0.8822\n",
            "Epoch 442/500\n",
            " - 0s - loss: 0.3031 - accuracy: 0.8749 - val_loss: 0.2909 - val_accuracy: 0.8814\n",
            "Epoch 443/500\n",
            " - 0s - loss: 0.3035 - accuracy: 0.8742 - val_loss: 0.2867 - val_accuracy: 0.8790\n",
            "Epoch 444/500\n",
            " - 0s - loss: 0.3031 - accuracy: 0.8739 - val_loss: 0.2891 - val_accuracy: 0.8828\n",
            "Epoch 445/500\n",
            " - 0s - loss: 0.3049 - accuracy: 0.8739 - val_loss: 0.2859 - val_accuracy: 0.8810\n",
            "Epoch 446/500\n",
            " - 0s - loss: 0.3027 - accuracy: 0.8749 - val_loss: 0.2874 - val_accuracy: 0.8788\n",
            "Epoch 447/500\n",
            " - 0s - loss: 0.3019 - accuracy: 0.8738 - val_loss: 0.2854 - val_accuracy: 0.8812\n",
            "Epoch 448/500\n",
            " - 0s - loss: 0.3026 - accuracy: 0.8742 - val_loss: 0.2887 - val_accuracy: 0.8832\n",
            "Epoch 449/500\n",
            " - 0s - loss: 0.3027 - accuracy: 0.8752 - val_loss: 0.2861 - val_accuracy: 0.8828\n",
            "Epoch 450/500\n",
            " - 0s - loss: 0.3030 - accuracy: 0.8763 - val_loss: 0.2856 - val_accuracy: 0.8814\n",
            "Epoch 451/500\n",
            " - 0s - loss: 0.3027 - accuracy: 0.8742 - val_loss: 0.2864 - val_accuracy: 0.8790\n",
            "Epoch 452/500\n",
            " - 0s - loss: 0.3034 - accuracy: 0.8733 - val_loss: 0.2859 - val_accuracy: 0.8804\n",
            "Epoch 453/500\n",
            " - 0s - loss: 0.3030 - accuracy: 0.8740 - val_loss: 0.2889 - val_accuracy: 0.8826\n",
            "Epoch 454/500\n",
            " - 0s - loss: 0.3015 - accuracy: 0.8744 - val_loss: 0.2862 - val_accuracy: 0.8800\n",
            "Epoch 455/500\n",
            " - 0s - loss: 0.3032 - accuracy: 0.8745 - val_loss: 0.2878 - val_accuracy: 0.8822\n",
            "Epoch 456/500\n",
            " - 0s - loss: 0.3021 - accuracy: 0.8755 - val_loss: 0.2849 - val_accuracy: 0.8812\n",
            "Epoch 457/500\n",
            " - 0s - loss: 0.3015 - accuracy: 0.8746 - val_loss: 0.2874 - val_accuracy: 0.8790\n",
            "Epoch 458/500\n",
            " - 0s - loss: 0.3035 - accuracy: 0.8745 - val_loss: 0.2854 - val_accuracy: 0.8814\n",
            "Epoch 459/500\n",
            " - 0s - loss: 0.3026 - accuracy: 0.8740 - val_loss: 0.2850 - val_accuracy: 0.8814\n",
            "Epoch 460/500\n",
            " - 0s - loss: 0.3020 - accuracy: 0.8739 - val_loss: 0.2867 - val_accuracy: 0.8824\n",
            "Epoch 461/500\n",
            " - 0s - loss: 0.3028 - accuracy: 0.8750 - val_loss: 0.2861 - val_accuracy: 0.8782\n",
            "Epoch 462/500\n",
            " - 0s - loss: 0.3030 - accuracy: 0.8740 - val_loss: 0.2939 - val_accuracy: 0.8802\n",
            "Epoch 463/500\n",
            " - 0s - loss: 0.3037 - accuracy: 0.8753 - val_loss: 0.2884 - val_accuracy: 0.8828\n",
            "Epoch 464/500\n",
            " - 0s - loss: 0.3062 - accuracy: 0.8738 - val_loss: 0.2935 - val_accuracy: 0.8759\n",
            "Epoch 465/500\n",
            " - 0s - loss: 0.3029 - accuracy: 0.8731 - val_loss: 0.2862 - val_accuracy: 0.8824\n",
            "Epoch 466/500\n",
            " - 0s - loss: 0.3025 - accuracy: 0.8740 - val_loss: 0.2869 - val_accuracy: 0.8792\n",
            "Epoch 467/500\n",
            " - 0s - loss: 0.3017 - accuracy: 0.8744 - val_loss: 0.2884 - val_accuracy: 0.8841\n",
            "Epoch 468/500\n",
            " - 0s - loss: 0.3021 - accuracy: 0.8745 - val_loss: 0.2853 - val_accuracy: 0.8812\n",
            "Epoch 469/500\n",
            " - 0s - loss: 0.3028 - accuracy: 0.8752 - val_loss: 0.2875 - val_accuracy: 0.8818\n",
            "Epoch 470/500\n",
            " - 0s - loss: 0.3022 - accuracy: 0.8744 - val_loss: 0.2879 - val_accuracy: 0.8776\n",
            "Epoch 471/500\n",
            " - 0s - loss: 0.3027 - accuracy: 0.8745 - val_loss: 0.2888 - val_accuracy: 0.8796\n",
            "Epoch 472/500\n",
            " - 0s - loss: 0.3017 - accuracy: 0.8756 - val_loss: 0.2849 - val_accuracy: 0.8806\n",
            "Epoch 473/500\n",
            " - 0s - loss: 0.3024 - accuracy: 0.8751 - val_loss: 0.2869 - val_accuracy: 0.8782\n",
            "Epoch 474/500\n",
            " - 0s - loss: 0.3014 - accuracy: 0.8764 - val_loss: 0.2875 - val_accuracy: 0.8832\n",
            "Epoch 475/500\n",
            " - 0s - loss: 0.3020 - accuracy: 0.8750 - val_loss: 0.2854 - val_accuracy: 0.8818\n",
            "Epoch 476/500\n",
            " - 0s - loss: 0.3049 - accuracy: 0.8742 - val_loss: 0.2866 - val_accuracy: 0.8826\n",
            "Epoch 477/500\n",
            " - 0s - loss: 0.3023 - accuracy: 0.8753 - val_loss: 0.2867 - val_accuracy: 0.8786\n",
            "Epoch 478/500\n",
            " - 0s - loss: 0.3017 - accuracy: 0.8744 - val_loss: 0.2866 - val_accuracy: 0.8790\n",
            "Epoch 479/500\n",
            " - 0s - loss: 0.3044 - accuracy: 0.8734 - val_loss: 0.2914 - val_accuracy: 0.8786\n",
            "Epoch 480/500\n",
            " - 0s - loss: 0.3028 - accuracy: 0.8744 - val_loss: 0.2856 - val_accuracy: 0.8826\n",
            "Epoch 481/500\n",
            " - 0s - loss: 0.3062 - accuracy: 0.8740 - val_loss: 0.2900 - val_accuracy: 0.8790\n",
            "Epoch 482/500\n",
            " - 0s - loss: 0.3058 - accuracy: 0.8742 - val_loss: 0.2855 - val_accuracy: 0.8806\n",
            "Epoch 483/500\n",
            " - 0s - loss: 0.3051 - accuracy: 0.8730 - val_loss: 0.2872 - val_accuracy: 0.8832\n",
            "Epoch 484/500\n",
            " - 0s - loss: 0.3033 - accuracy: 0.8740 - val_loss: 0.2853 - val_accuracy: 0.8810\n",
            "Epoch 485/500\n",
            " - 0s - loss: 0.3026 - accuracy: 0.8751 - val_loss: 0.2849 - val_accuracy: 0.8816\n",
            "Epoch 486/500\n",
            " - 0s - loss: 0.3034 - accuracy: 0.8747 - val_loss: 0.2848 - val_accuracy: 0.8818\n",
            "Epoch 487/500\n",
            " - 0s - loss: 0.3019 - accuracy: 0.8735 - val_loss: 0.2850 - val_accuracy: 0.8814\n",
            "Epoch 488/500\n",
            " - 0s - loss: 0.3033 - accuracy: 0.8745 - val_loss: 0.2877 - val_accuracy: 0.8784\n",
            "Epoch 489/500\n",
            " - 0s - loss: 0.3024 - accuracy: 0.8740 - val_loss: 0.2869 - val_accuracy: 0.8822\n",
            "Epoch 490/500\n",
            " - 0s - loss: 0.3020 - accuracy: 0.8745 - val_loss: 0.2862 - val_accuracy: 0.8832\n",
            "Epoch 491/500\n",
            " - 0s - loss: 0.3036 - accuracy: 0.8748 - val_loss: 0.2856 - val_accuracy: 0.8808\n",
            "Epoch 492/500\n",
            " - 0s - loss: 0.3013 - accuracy: 0.8746 - val_loss: 0.2854 - val_accuracy: 0.8806\n",
            "Epoch 493/500\n",
            " - 0s - loss: 0.3023 - accuracy: 0.8742 - val_loss: 0.2854 - val_accuracy: 0.8833\n",
            "Epoch 494/500\n",
            " - 0s - loss: 0.3025 - accuracy: 0.8752 - val_loss: 0.2847 - val_accuracy: 0.8820\n",
            "Epoch 495/500\n",
            " - 0s - loss: 0.3018 - accuracy: 0.8744 - val_loss: 0.2851 - val_accuracy: 0.8824\n",
            "Epoch 496/500\n",
            " - 0s - loss: 0.3021 - accuracy: 0.8749 - val_loss: 0.2870 - val_accuracy: 0.8837\n",
            "Epoch 497/500\n",
            " - 0s - loss: 0.3027 - accuracy: 0.8744 - val_loss: 0.2862 - val_accuracy: 0.8792\n",
            "Epoch 498/500\n",
            " - 0s - loss: 0.3018 - accuracy: 0.8743 - val_loss: 0.2863 - val_accuracy: 0.8794\n",
            "Epoch 499/500\n",
            " - 0s - loss: 0.3019 - accuracy: 0.8744 - val_loss: 0.2885 - val_accuracy: 0.8830\n",
            "Epoch 500/500\n",
            " - 0s - loss: 0.3034 - accuracy: 0.8732 - val_loss: 0.2849 - val_accuracy: 0.8830\n"
          ],
          "name": "stdout"
        },
        {
          "output_type": "execute_result",
          "data": {
            "text/plain": [
              "<keras.callbacks.callbacks.History at 0x7f5037c72e10>"
            ]
          },
          "metadata": {
            "tags": []
          },
          "execution_count": 9
        }
      ]
    },
    {
      "cell_type": "code",
      "metadata": {
        "id": "QENi-MK37ixz",
        "colab_type": "code",
        "colab": {}
      },
      "source": [
        "modelname=\"model_01_1730\""
      ],
      "execution_count": null,
      "outputs": []
    },
    {
      "cell_type": "code",
      "metadata": {
        "id": "22yu174aVUR7",
        "colab_type": "code",
        "colab": {
          "base_uri": "https://localhost:8080/",
          "height": 34
        },
        "outputId": "f86ba061-73eb-4667-f7ad-fb56ae78ecb8"
      },
      "source": [
        "#saving the model to file\n",
        "model_json = model.to_json()\n",
        "with open(\"/content/drive/My Drive/ugm_data/models/\"+modelname+\".json\", \"w\") as json_file:\n",
        "    json_file.write(model_json)\n",
        "# serialize weights to HDF5\n",
        "model.save_weights(\"/content/drive/My Drive/ugm_data/models/\"+modelname+\".h5\")\n",
        "print(\"Saved model to disk\")"
      ],
      "execution_count": null,
      "outputs": [
        {
          "output_type": "stream",
          "text": [
            "Saved model to disk\n"
          ],
          "name": "stdout"
        }
      ]
    },
    {
      "cell_type": "code",
      "metadata": {
        "id": "Nvm0E-C33dne",
        "colab_type": "code",
        "colab": {
          "base_uri": "https://localhost:8080/",
          "height": 50
        },
        "outputId": "caffc4f6-e417-47d4-a505-8e5a3021145e"
      },
      "source": [
        "# load json and create model\n",
        "json_file = open('/content/drive/My Drive/ugm_data/models/'+modelname+'.json', 'r')\n",
        "loaded_model_json = json_file.read()\n",
        "json_file.close()\n",
        "loaded_model = model_from_json(loaded_model_json)\n",
        "# load weights into new model\n",
        "loaded_model.load_weights(\"/content/drive/My Drive/ugm_data/models/\"+modelname+\".h5\")\n",
        "print(\"Loaded model from disk\")\n",
        " \n",
        "# evaluate loaded model on test data\n",
        "loaded_model.compile(loss='binary_crossentropy', optimizer='adam', metrics=['accuracy'])\n",
        "score = loaded_model.evaluate(X_test,y_test, verbose=0)\n",
        "print(\"%s: %.2f%%\" % (loaded_model.metrics_names[1], score[1]*100))"
      ],
      "execution_count": null,
      "outputs": [
        {
          "output_type": "stream",
          "text": [
            "Loaded model from disk\n",
            "accuracy: 88.30%\n"
          ],
          "name": "stdout"
        }
      ]
    },
    {
      "cell_type": "code",
      "metadata": {
        "id": "UxqifCmpcRt9",
        "colab_type": "code",
        "colab": {
          "base_uri": "https://localhost:8080/",
          "height": 34
        },
        "outputId": "a6323ce0-d48f-4ce7-9d02-9ac79afa60cf"
      },
      "source": [
        "testdata=loadtxt('/content/drive/My Drive/ugm_data/test_data_extra_full.csv', delimiter=',')\n",
        "testdata.shape"
      ],
      "execution_count": null,
      "outputs": [
        {
          "output_type": "execute_result",
          "data": {
            "text/plain": [
              "(553000, 7)"
            ]
          },
          "metadata": {
            "tags": []
          },
          "execution_count": 27
        }
      ]
    },
    {
      "cell_type": "code",
      "metadata": {
        "id": "2A1aMCBxcqUP",
        "colab_type": "code",
        "colab": {
          "base_uri": "https://localhost:8080/",
          "height": 34
        },
        "outputId": "deedc367-ee01-4f58-9a10-fe8f842a6849"
      },
      "source": [
        "ypred=loaded_model.predict_proba(testdata[:,0:7],verbose=1)"
      ],
      "execution_count": null,
      "outputs": [
        {
          "output_type": "stream",
          "text": [
            "553000/553000 [==============================] - 8s 14us/step\n"
          ],
          "name": "stdout"
        }
      ]
    },
    {
      "cell_type": "code",
      "metadata": {
        "id": "e8ZELlNSewUY",
        "colab_type": "code",
        "colab": {}
      },
      "source": [
        "ynew=ypred"
      ],
      "execution_count": null,
      "outputs": []
    },
    {
      "cell_type": "code",
      "metadata": {
        "id": "wrcNXwsAc0YU",
        "colab_type": "code",
        "colab": {}
      },
      "source": [
        "ytestnew=ynew.reshape(632,875)"
      ],
      "execution_count": null,
      "outputs": []
    },
    {
      "cell_type": "code",
      "metadata": {
        "id": "E9Vb6MXWebXO",
        "colab_type": "code",
        "colab": {}
      },
      "source": [
        "savetxt('/content/drive/My Drive/ugm_data/projected_2020.txt',ytestnew,delimiter=' ')"
      ],
      "execution_count": null,
      "outputs": []
    },
    {
      "cell_type": "code",
      "metadata": {
        "id": "5NBTGUmO0mZf",
        "colab_type": "code",
        "colab": {}
      },
      "source": [
        "3ytestnew[ytestnew>0.8]=1\n",
        "ytestnew[ytestnew<0.8]=0"
      ],
      "execution_count": null,
      "outputs": []
    },
    {
      "cell_type": "code",
      "metadata": {
        "id": "B-eZqtSu0_X1",
        "colab_type": "code",
        "colab": {
          "base_uri": "https://localhost:8080/",
          "height": 235
        },
        "outputId": "4913386f-434c-46a1-d5c8-ffe4904fc8f0"
      },
      "source": [
        "ytestnew"
      ],
      "execution_count": null,
      "outputs": [
        {
          "output_type": "execute_result",
          "data": {
            "text/plain": [
              "array([[0.9538585 , 0.9339557 , 0.94252956, ..., 0.9582137 , 0.93428624,\n",
              "        0.8902997 ],\n",
              "       [0.9215163 , 0.9075118 , 0.91993487, ..., 0.9839409 , 0.9410033 ,\n",
              "        0.9018932 ],\n",
              "       [0.9263991 , 0.91370976, 0.92596936, ..., 0.99618965, 0.9731817 ,\n",
              "        0.9129076 ],\n",
              "       ...,\n",
              "       [0.        , 0.        , 0.        , ..., 0.00578746, 0.00504664,\n",
              "        0.00439882],\n",
              "       [0.        , 0.        , 0.        , ..., 0.00561911, 0.00490132,\n",
              "        0.00427249],\n",
              "       [0.        , 0.        , 0.        , ..., 0.00544548, 0.00474903,\n",
              "        0.00414196]], dtype=float32)"
            ]
          },
          "metadata": {
            "tags": []
          },
          "execution_count": 15
        }
      ]
    },
    {
      "cell_type": "code",
      "metadata": {
        "id": "0uyPrwZmen2z",
        "colab_type": "code",
        "colab": {
          "base_uri": "https://localhost:8080/",
          "height": 286
        },
        "outputId": "fd9e75d9-872d-4472-867f-a940d43e6839"
      },
      "source": [
        "plt.imshow(ytestnew)"
      ],
      "execution_count": null,
      "outputs": [
        {
          "output_type": "execute_result",
          "data": {
            "text/plain": [
              "<matplotlib.image.AxesImage at 0x7f502f6f7e80>"
            ]
          },
          "metadata": {
            "tags": []
          },
          "execution_count": 31
        },
        {
          "output_type": "display_data",
          "data": {
            "image/png": "[encoded data removed]",
            "text/plain": [
              "<Figure size 432x288 with 1 Axes>"
            ]
          },
          "metadata": {
            "tags": [],
            "needs_background": "light"
          }
        }
      ]
    },
    {
      "cell_type": "code",
      "metadata": {
        "id": "ZBK2ZzdE5BRW",
        "colab_type": "code",
        "colab": {
          "base_uri": "https://localhost:8080/",
          "height": 34
        },
        "outputId": "ec4306b7-eaed-4003-f818-6cf2b17ed5a4"
      },
      "source": [
        "score"
      ],
      "execution_count": null,
      "outputs": [
        {
          "output_type": "execute_result",
          "data": {
            "text/plain": [
              "[0.016295202698421957, 0.9945980310440063]"
            ]
          },
          "metadata": {
            "tags": []
          },
          "execution_count": 36
        }
      ]
    },
    {
      "cell_type": "code",
      "metadata": {
        "id": "ImyDQtZB5cEL",
        "colab_type": "code",
        "colab": {}
      },
      "source": [
        "xreal=X_train[12000]"
      ],
      "execution_count": null,
      "outputs": []
    },
    {
      "cell_type": "code",
      "metadata": {
        "id": "4CebThkd5xD6",
        "colab_type": "code",
        "colab": {
          "base_uri": "https://localhost:8080/",
          "height": 34
        },
        "outputId": "d781d2ad-3f97-447a-ae77-54866842b7ba"
      },
      "source": [
        "y_real=y_train[12000]\n",
        "xreal.shape"
      ],
      "execution_count": null,
      "outputs": [
        {
          "output_type": "execute_result",
          "data": {
            "text/plain": [
              "(5,)"
            ]
          },
          "metadata": {
            "tags": []
          },
          "execution_count": 38
        }
      ]
    },
    {
      "cell_type": "code",
      "metadata": {
        "id": "6IPtc8MI53sj",
        "colab_type": "code",
        "colab": {}
      },
      "source": [
        "xreal=xreal.reshape((5,))\n",
        "# x_real\n",
        "# xreal\n",
        "# ynew=loaded_model.predict_classes([x_real])"
      ],
      "execution_count": null,
      "outputs": []
    },
    {
      "cell_type": "code",
      "metadata": {
        "id": "8EheFiqo7dyt",
        "colab_type": "code",
        "colab": {
          "base_uri": "https://localhost:8080/",
          "height": 34
        },
        "outputId": "1e2e0172-e79e-4312-fcba-4c72180c4d4a"
      },
      "source": [
        "xreal=xreal.reshape((1,5))\n",
        "xreal.shape\n",
        "xreal[0:1].shape"
      ],
      "execution_count": null,
      "outputs": [
        {
          "output_type": "execute_result",
          "data": {
            "text/plain": [
              "(1, 5)"
            ]
          },
          "metadata": {
            "tags": []
          },
          "execution_count": 40
        }
      ]
    },
    {
      "cell_type": "code",
      "metadata": {
        "id": "ryDGr4kO8X-F",
        "colab_type": "code",
        "colab": {}
      },
      "source": [
        "ynew=loaded_model.predict_classes(xreal[0:1])"
      ],
      "execution_count": null,
      "outputs": []
    },
    {
      "cell_type": "code",
      "metadata": {
        "id": "c0MY7TtQ8nK8",
        "colab_type": "code",
        "colab": {
          "base_uri": "https://localhost:8080/",
          "height": 34
        },
        "outputId": "28cfc22b-017f-41e0-dc14-04aa7e9b64ec"
      },
      "source": [
        "ynew"
      ],
      "execution_count": null,
      "outputs": [
        {
          "output_type": "execute_result",
          "data": {
            "text/plain": [
              "array([[0]], dtype=int32)"
            ]
          },
          "metadata": {
            "tags": []
          },
          "execution_count": 42
        }
      ]
    },
    {
      "cell_type": "code",
      "metadata": {
        "id": "xpXecbJm_F99",
        "colab_type": "code",
        "colab": {}
      },
      "source": [
        ""
      ],
      "execution_count": null,
      "outputs": []
    }
  ]
}